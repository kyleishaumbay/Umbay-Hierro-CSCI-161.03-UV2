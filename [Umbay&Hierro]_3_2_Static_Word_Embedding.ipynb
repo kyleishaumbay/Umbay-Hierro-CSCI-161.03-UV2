{
  "cells": [
    {
      "cell_type": "markdown",
      "metadata": {
        "id": "view-in-github",
        "colab_type": "text"
      },
      "source": [
        "<a href=\"https://colab.research.google.com/github/kyleishaumbay/Umbay-Hierro-CSCI-161.03-UV2/blob/main/%5BUmbay%26Hierro%5D_3_2_Static_Word_Embedding.ipynb\" target=\"_parent\"><img src=\"https://colab.research.google.com/assets/colab-badge.svg\" alt=\"Open In Colab\"/></a>"
      ]
    },
    {
      "cell_type": "markdown",
      "metadata": {
        "vscode": {
          "languageId": "plaintext"
        },
        "id": "O9GKEhvQRCHH"
      },
      "source": [
        "# Load libraries"
      ]
    },
    {
      "cell_type": "code",
      "execution_count": 1,
      "metadata": {
        "id": "Yr65J7rNRCHP",
        "colab": {
          "base_uri": "https://localhost:8080/"
        },
        "outputId": "7b813d2f-9a89-4fbd-ee8a-b3ade4218fc5"
      },
      "outputs": [
        {
          "output_type": "stream",
          "name": "stdout",
          "text": [
            "Requirement already satisfied: gensim in /usr/local/lib/python3.12/dist-packages (4.3.3)\n",
            "Requirement already satisfied: numpy<2.0,>=1.18.5 in /usr/local/lib/python3.12/dist-packages (from gensim) (1.26.4)\n",
            "Requirement already satisfied: scipy<1.14.0,>=1.7.0 in /usr/local/lib/python3.12/dist-packages (from gensim) (1.13.1)\n",
            "Requirement already satisfied: smart-open>=1.8.1 in /usr/local/lib/python3.12/dist-packages (from gensim) (7.3.1)\n",
            "Requirement already satisfied: wrapt in /usr/local/lib/python3.12/dist-packages (from smart-open>=1.8.1->gensim) (1.17.3)\n"
          ]
        }
      ],
      "source": [
        "!pip install gensim"
      ]
    },
    {
      "cell_type": "code",
      "execution_count": 2,
      "metadata": {
        "id": "OR6NJQByRCHT"
      },
      "outputs": [],
      "source": [
        "import pandas as pd\n",
        "import numpy as np\n",
        "import matplotlib.pyplot as plt\n",
        "\n",
        "import gensim"
      ]
    },
    {
      "cell_type": "markdown",
      "metadata": {
        "id": "tO9763_KRCHU"
      },
      "source": [
        "# Load data"
      ]
    },
    {
      "cell_type": "code",
      "execution_count": 3,
      "metadata": {
        "id": "dqnxnqaDRCHV",
        "outputId": "7ff66485-94be-49ea-98c5-e1f161ef3106",
        "colab": {
          "base_uri": "https://localhost:8080/",
          "height": 469
        }
      },
      "outputs": [
        {
          "output_type": "execute_result",
          "data": {
            "text/plain": [
              "                                               title  \\\n",
              "0  Taibbi is a journalist paid and bought by bill...   \n",
              "1  @@margobarranti Hello dear... I really appreci...   \n",
              "2  Hello dear... I really appreciate your likes a...   \n",
              "3  Hello dear... I really appreciate your likes a...   \n",
              "4  Hello dear... I really appreciate your likes a...   \n",
              "\n",
              "                                                link       date_published  \\\n",
              "0  https://www.youtube.com/watch?v=BB__743Jfm0&lc...  2025-09-09 20:34:11   \n",
              "1  https://www.youtube.com/watch?v=kzlUyrccbos&lc...  2025-09-09 20:26:01   \n",
              "2  https://www.youtube.com/watch?v=oO8w6XcXJUs&lc...  2025-09-09 20:05:41   \n",
              "3  https://www.youtube.com/watch?v=oO8w6XcXJUs&lc...  2025-09-09 20:04:40   \n",
              "4  https://www.youtube.com/watch?v=oO8w6XcXJUs&lc...  2025-09-09 20:04:28   \n",
              "\n",
              "                                                text  like_count  \\\n",
              "0  Taibbi is a journalist paid and bought by bill...           0   \n",
              "1  @@margobarranti Hello dear... I really appreci...           0   \n",
              "2  Hello dear... I really appreciate your likes a...           0   \n",
              "3  Hello dear... I really appreciate your likes a...           0   \n",
              "4  Hello dear... I really appreciate your likes a...           0   \n",
              "\n",
              "              reply_parent_id   source  \\\n",
              "0                         NaN  youtube   \n",
              "1  Ugy6M6SUBHCUtkU3RSh4AaABAg  youtube   \n",
              "2  UgzYT3Etk-P5otJtTKF4AaABAg  youtube   \n",
              "3  UgyIKvl9rpFtLHpw6Ul4AaABAg  youtube   \n",
              "4  UgyB14bghklGyJpGm2N4AaABAg  youtube   \n",
              "\n",
              "                                        cleaned_text  \n",
              "0  Taibbi journalist billionaire I SB Taibi usefu...  \n",
              "1  Hello dear I appreciate comment I touch Send d...  \n",
              "2  Hello dear I appreciate comment I touch Send d...  \n",
              "3  Hello dear I appreciate comment I touch Send d...  \n",
              "4  Hello dear I appreciate comment I touch Send d...  "
            ],
            "text/html": [
              "\n",
              "  <div id=\"df-73ff50e8-2bc2-4de7-b9f0-098ebd7d2ccf\" class=\"colab-df-container\">\n",
              "    <div>\n",
              "<style scoped>\n",
              "    .dataframe tbody tr th:only-of-type {\n",
              "        vertical-align: middle;\n",
              "    }\n",
              "\n",
              "    .dataframe tbody tr th {\n",
              "        vertical-align: top;\n",
              "    }\n",
              "\n",
              "    .dataframe thead th {\n",
              "        text-align: right;\n",
              "    }\n",
              "</style>\n",
              "<table border=\"1\" class=\"dataframe\">\n",
              "  <thead>\n",
              "    <tr style=\"text-align: right;\">\n",
              "      <th></th>\n",
              "      <th>title</th>\n",
              "      <th>link</th>\n",
              "      <th>date_published</th>\n",
              "      <th>text</th>\n",
              "      <th>like_count</th>\n",
              "      <th>reply_parent_id</th>\n",
              "      <th>source</th>\n",
              "      <th>cleaned_text</th>\n",
              "    </tr>\n",
              "  </thead>\n",
              "  <tbody>\n",
              "    <tr>\n",
              "      <th>0</th>\n",
              "      <td>Taibbi is a journalist paid and bought by bill...</td>\n",
              "      <td>https://www.youtube.com/watch?v=BB__743Jfm0&amp;lc...</td>\n",
              "      <td>2025-09-09 20:34:11</td>\n",
              "      <td>Taibbi is a journalist paid and bought by bill...</td>\n",
              "      <td>0</td>\n",
              "      <td>NaN</td>\n",
              "      <td>youtube</td>\n",
              "      <td>Taibbi journalist billionaire I SB Taibi usefu...</td>\n",
              "    </tr>\n",
              "    <tr>\n",
              "      <th>1</th>\n",
              "      <td>@@margobarranti Hello dear... I really appreci...</td>\n",
              "      <td>https://www.youtube.com/watch?v=kzlUyrccbos&amp;lc...</td>\n",
              "      <td>2025-09-09 20:26:01</td>\n",
              "      <td>@@margobarranti Hello dear... I really appreci...</td>\n",
              "      <td>0</td>\n",
              "      <td>Ugy6M6SUBHCUtkU3RSh4AaABAg</td>\n",
              "      <td>youtube</td>\n",
              "      <td>Hello dear I appreciate comment I touch Send d...</td>\n",
              "    </tr>\n",
              "    <tr>\n",
              "      <th>2</th>\n",
              "      <td>Hello dear... I really appreciate your likes a...</td>\n",
              "      <td>https://www.youtube.com/watch?v=oO8w6XcXJUs&amp;lc...</td>\n",
              "      <td>2025-09-09 20:05:41</td>\n",
              "      <td>Hello dear... I really appreciate your likes a...</td>\n",
              "      <td>0</td>\n",
              "      <td>UgzYT3Etk-P5otJtTKF4AaABAg</td>\n",
              "      <td>youtube</td>\n",
              "      <td>Hello dear I appreciate comment I touch Send d...</td>\n",
              "    </tr>\n",
              "    <tr>\n",
              "      <th>3</th>\n",
              "      <td>Hello dear... I really appreciate your likes a...</td>\n",
              "      <td>https://www.youtube.com/watch?v=oO8w6XcXJUs&amp;lc...</td>\n",
              "      <td>2025-09-09 20:04:40</td>\n",
              "      <td>Hello dear... I really appreciate your likes a...</td>\n",
              "      <td>0</td>\n",
              "      <td>UgyIKvl9rpFtLHpw6Ul4AaABAg</td>\n",
              "      <td>youtube</td>\n",
              "      <td>Hello dear I appreciate comment I touch Send d...</td>\n",
              "    </tr>\n",
              "    <tr>\n",
              "      <th>4</th>\n",
              "      <td>Hello dear... I really appreciate your likes a...</td>\n",
              "      <td>https://www.youtube.com/watch?v=oO8w6XcXJUs&amp;lc...</td>\n",
              "      <td>2025-09-09 20:04:28</td>\n",
              "      <td>Hello dear... I really appreciate your likes a...</td>\n",
              "      <td>0</td>\n",
              "      <td>UgyB14bghklGyJpGm2N4AaABAg</td>\n",
              "      <td>youtube</td>\n",
              "      <td>Hello dear I appreciate comment I touch Send d...</td>\n",
              "    </tr>\n",
              "  </tbody>\n",
              "</table>\n",
              "</div>\n",
              "    <div class=\"colab-df-buttons\">\n",
              "\n",
              "  <div class=\"colab-df-container\">\n",
              "    <button class=\"colab-df-convert\" onclick=\"convertToInteractive('df-73ff50e8-2bc2-4de7-b9f0-098ebd7d2ccf')\"\n",
              "            title=\"Convert this dataframe to an interactive table.\"\n",
              "            style=\"display:none;\">\n",
              "\n",
              "  <svg xmlns=\"http://www.w3.org/2000/svg\" height=\"24px\" viewBox=\"0 -960 960 960\">\n",
              "    <path d=\"M120-120v-720h720v720H120Zm60-500h600v-160H180v160Zm220 220h160v-160H400v160Zm0 220h160v-160H400v160ZM180-400h160v-160H180v160Zm440 0h160v-160H620v160ZM180-180h160v-160H180v160Zm440 0h160v-160H620v160Z\"/>\n",
              "  </svg>\n",
              "    </button>\n",
              "\n",
              "  <style>\n",
              "    .colab-df-container {\n",
              "      display:flex;\n",
              "      gap: 12px;\n",
              "    }\n",
              "\n",
              "    .colab-df-convert {\n",
              "      background-color: #E8F0FE;\n",
              "      border: none;\n",
              "      border-radius: 50%;\n",
              "      cursor: pointer;\n",
              "      display: none;\n",
              "      fill: #1967D2;\n",
              "      height: 32px;\n",
              "      padding: 0 0 0 0;\n",
              "      width: 32px;\n",
              "    }\n",
              "\n",
              "    .colab-df-convert:hover {\n",
              "      background-color: #E2EBFA;\n",
              "      box-shadow: 0px 1px 2px rgba(60, 64, 67, 0.3), 0px 1px 3px 1px rgba(60, 64, 67, 0.15);\n",
              "      fill: #174EA6;\n",
              "    }\n",
              "\n",
              "    .colab-df-buttons div {\n",
              "      margin-bottom: 4px;\n",
              "    }\n",
              "\n",
              "    [theme=dark] .colab-df-convert {\n",
              "      background-color: #3B4455;\n",
              "      fill: #D2E3FC;\n",
              "    }\n",
              "\n",
              "    [theme=dark] .colab-df-convert:hover {\n",
              "      background-color: #434B5C;\n",
              "      box-shadow: 0px 1px 3px 1px rgba(0, 0, 0, 0.15);\n",
              "      filter: drop-shadow(0px 1px 2px rgba(0, 0, 0, 0.3));\n",
              "      fill: #FFFFFF;\n",
              "    }\n",
              "  </style>\n",
              "\n",
              "    <script>\n",
              "      const buttonEl =\n",
              "        document.querySelector('#df-73ff50e8-2bc2-4de7-b9f0-098ebd7d2ccf button.colab-df-convert');\n",
              "      buttonEl.style.display =\n",
              "        google.colab.kernel.accessAllowed ? 'block' : 'none';\n",
              "\n",
              "      async function convertToInteractive(key) {\n",
              "        const element = document.querySelector('#df-73ff50e8-2bc2-4de7-b9f0-098ebd7d2ccf');\n",
              "        const dataTable =\n",
              "          await google.colab.kernel.invokeFunction('convertToInteractive',\n",
              "                                                    [key], {});\n",
              "        if (!dataTable) return;\n",
              "\n",
              "        const docLinkHtml = 'Like what you see? Visit the ' +\n",
              "          '<a target=\"_blank\" href=https://colab.research.google.com/notebooks/data_table.ipynb>data table notebook</a>'\n",
              "          + ' to learn more about interactive tables.';\n",
              "        element.innerHTML = '';\n",
              "        dataTable['output_type'] = 'display_data';\n",
              "        await google.colab.output.renderOutput(dataTable, element);\n",
              "        const docLink = document.createElement('div');\n",
              "        docLink.innerHTML = docLinkHtml;\n",
              "        element.appendChild(docLink);\n",
              "      }\n",
              "    </script>\n",
              "  </div>\n",
              "\n",
              "\n",
              "    <div id=\"df-5ca38557-e701-44c7-aced-6076077b6ef8\">\n",
              "      <button class=\"colab-df-quickchart\" onclick=\"quickchart('df-5ca38557-e701-44c7-aced-6076077b6ef8')\"\n",
              "                title=\"Suggest charts\"\n",
              "                style=\"display:none;\">\n",
              "\n",
              "<svg xmlns=\"http://www.w3.org/2000/svg\" height=\"24px\"viewBox=\"0 0 24 24\"\n",
              "     width=\"24px\">\n",
              "    <g>\n",
              "        <path d=\"M19 3H5c-1.1 0-2 .9-2 2v14c0 1.1.9 2 2 2h14c1.1 0 2-.9 2-2V5c0-1.1-.9-2-2-2zM9 17H7v-7h2v7zm4 0h-2V7h2v10zm4 0h-2v-4h2v4z\"/>\n",
              "    </g>\n",
              "</svg>\n",
              "      </button>\n",
              "\n",
              "<style>\n",
              "  .colab-df-quickchart {\n",
              "      --bg-color: #E8F0FE;\n",
              "      --fill-color: #1967D2;\n",
              "      --hover-bg-color: #E2EBFA;\n",
              "      --hover-fill-color: #174EA6;\n",
              "      --disabled-fill-color: #AAA;\n",
              "      --disabled-bg-color: #DDD;\n",
              "  }\n",
              "\n",
              "  [theme=dark] .colab-df-quickchart {\n",
              "      --bg-color: #3B4455;\n",
              "      --fill-color: #D2E3FC;\n",
              "      --hover-bg-color: #434B5C;\n",
              "      --hover-fill-color: #FFFFFF;\n",
              "      --disabled-bg-color: #3B4455;\n",
              "      --disabled-fill-color: #666;\n",
              "  }\n",
              "\n",
              "  .colab-df-quickchart {\n",
              "    background-color: var(--bg-color);\n",
              "    border: none;\n",
              "    border-radius: 50%;\n",
              "    cursor: pointer;\n",
              "    display: none;\n",
              "    fill: var(--fill-color);\n",
              "    height: 32px;\n",
              "    padding: 0;\n",
              "    width: 32px;\n",
              "  }\n",
              "\n",
              "  .colab-df-quickchart:hover {\n",
              "    background-color: var(--hover-bg-color);\n",
              "    box-shadow: 0 1px 2px rgba(60, 64, 67, 0.3), 0 1px 3px 1px rgba(60, 64, 67, 0.15);\n",
              "    fill: var(--button-hover-fill-color);\n",
              "  }\n",
              "\n",
              "  .colab-df-quickchart-complete:disabled,\n",
              "  .colab-df-quickchart-complete:disabled:hover {\n",
              "    background-color: var(--disabled-bg-color);\n",
              "    fill: var(--disabled-fill-color);\n",
              "    box-shadow: none;\n",
              "  }\n",
              "\n",
              "  .colab-df-spinner {\n",
              "    border: 2px solid var(--fill-color);\n",
              "    border-color: transparent;\n",
              "    border-bottom-color: var(--fill-color);\n",
              "    animation:\n",
              "      spin 1s steps(1) infinite;\n",
              "  }\n",
              "\n",
              "  @keyframes spin {\n",
              "    0% {\n",
              "      border-color: transparent;\n",
              "      border-bottom-color: var(--fill-color);\n",
              "      border-left-color: var(--fill-color);\n",
              "    }\n",
              "    20% {\n",
              "      border-color: transparent;\n",
              "      border-left-color: var(--fill-color);\n",
              "      border-top-color: var(--fill-color);\n",
              "    }\n",
              "    30% {\n",
              "      border-color: transparent;\n",
              "      border-left-color: var(--fill-color);\n",
              "      border-top-color: var(--fill-color);\n",
              "      border-right-color: var(--fill-color);\n",
              "    }\n",
              "    40% {\n",
              "      border-color: transparent;\n",
              "      border-right-color: var(--fill-color);\n",
              "      border-top-color: var(--fill-color);\n",
              "    }\n",
              "    60% {\n",
              "      border-color: transparent;\n",
              "      border-right-color: var(--fill-color);\n",
              "    }\n",
              "    80% {\n",
              "      border-color: transparent;\n",
              "      border-right-color: var(--fill-color);\n",
              "      border-bottom-color: var(--fill-color);\n",
              "    }\n",
              "    90% {\n",
              "      border-color: transparent;\n",
              "      border-bottom-color: var(--fill-color);\n",
              "    }\n",
              "  }\n",
              "</style>\n",
              "\n",
              "      <script>\n",
              "        async function quickchart(key) {\n",
              "          const quickchartButtonEl =\n",
              "            document.querySelector('#' + key + ' button');\n",
              "          quickchartButtonEl.disabled = true;  // To prevent multiple clicks.\n",
              "          quickchartButtonEl.classList.add('colab-df-spinner');\n",
              "          try {\n",
              "            const charts = await google.colab.kernel.invokeFunction(\n",
              "                'suggestCharts', [key], {});\n",
              "          } catch (error) {\n",
              "            console.error('Error during call to suggestCharts:', error);\n",
              "          }\n",
              "          quickchartButtonEl.classList.remove('colab-df-spinner');\n",
              "          quickchartButtonEl.classList.add('colab-df-quickchart-complete');\n",
              "        }\n",
              "        (() => {\n",
              "          let quickchartButtonEl =\n",
              "            document.querySelector('#df-5ca38557-e701-44c7-aced-6076077b6ef8 button');\n",
              "          quickchartButtonEl.style.display =\n",
              "            google.colab.kernel.accessAllowed ? 'block' : 'none';\n",
              "        })();\n",
              "      </script>\n",
              "    </div>\n",
              "\n",
              "    </div>\n",
              "  </div>\n"
            ],
            "application/vnd.google.colaboratory.intrinsic+json": {
              "type": "dataframe",
              "variable_name": "corpus",
              "summary": "{\n  \"name\": \"corpus\",\n  \"rows\": 3202,\n  \"fields\": [\n    {\n      \"column\": \"title\",\n      \"properties\": {\n        \"dtype\": \"string\",\n        \"num_unique_values\": 3038,\n        \"samples\": [\n          \"ACCELERATING\",\n          \"\\ud83d\\ude02 oh Stephen Miller\\u2026.\",\n          \"Look around the world nothing but suffer humanity\"\n        ],\n        \"semantic_type\": \"\",\n        \"description\": \"\"\n      }\n    },\n    {\n      \"column\": \"link\",\n      \"properties\": {\n        \"dtype\": \"string\",\n        \"num_unique_values\": 3101,\n        \"samples\": [\n          \"https://www.youtube.com/watch?v=y3ovm0THFYE&lc=UgwxLAKHssEF8qFutfx4AaABAg\",\n          \"https://www.youtube.com/watch?v=d6TksmldG7E&lc=UgwR8IAV9jQJ6EkAJhd4AaABAg.9qx9zCg6rPX9r-qfDCXkek\",\n          \"https://www.youtube.com/watch?v=kJzed7DQdGs&lc=Ugz7WQ7BpPWRrUJsLrp4AaABAg\"\n        ],\n        \"semantic_type\": \"\",\n        \"description\": \"\"\n      }\n    },\n    {\n      \"column\": \"date_published\",\n      \"properties\": {\n        \"dtype\": \"object\",\n        \"num_unique_values\": 3097,\n        \"samples\": [\n          \"2025-05-31 21:53:07\",\n          \"2025-06-23 20:41:57\",\n          \"2025-06-11 17:13:40\"\n        ],\n        \"semantic_type\": \"\",\n        \"description\": \"\"\n      }\n    },\n    {\n      \"column\": \"text\",\n      \"properties\": {\n        \"dtype\": \"string\",\n        \"num_unique_values\": 3036,\n        \"samples\": [\n          \"Is he. Drunk\",\n          \"Yuk, yuk. SNL: television for old hippies and lunkheads.\",\n          \"Look around the world nothing but suffer humanity\"\n        ],\n        \"semantic_type\": \"\",\n        \"description\": \"\"\n      }\n    },\n    {\n      \"column\": \"like_count\",\n      \"properties\": {\n        \"dtype\": \"number\",\n        \"std\": 163,\n        \"min\": 0,\n        \"max\": 8918,\n        \"num_unique_values\": 40,\n        \"samples\": [\n          30,\n          18,\n          31\n        ],\n        \"semantic_type\": \"\",\n        \"description\": \"\"\n      }\n    },\n    {\n      \"column\": \"reply_parent_id\",\n      \"properties\": {\n        \"dtype\": \"category\",\n        \"num_unique_values\": 193,\n        \"samples\": [\n          \"UgwuTzg_HQ4KgxtlGW14AaABAg\",\n          \"Ugw1Akn9CPf5U2EqSd14AaABAg\",\n          \"UgyK0E6aQczjo6VjuTR4AaABAg\"\n        ],\n        \"semantic_type\": \"\",\n        \"description\": \"\"\n      }\n    },\n    {\n      \"column\": \"source\",\n      \"properties\": {\n        \"dtype\": \"category\",\n        \"num_unique_values\": 1,\n        \"samples\": [\n          \"youtube\"\n        ],\n        \"semantic_type\": \"\",\n        \"description\": \"\"\n      }\n    },\n    {\n      \"column\": \"cleaned_text\",\n      \"properties\": {\n        \"dtype\": \"string\",\n        \"num_unique_values\": 2851,\n        \"samples\": [\n          \"fake news moron\"\n        ],\n        \"semantic_type\": \"\",\n        \"description\": \"\"\n      }\n    }\n  ]\n}"
            }
          },
          "metadata": {},
          "execution_count": 3
        }
      ],
      "source": [
        "corpus = pd.read_csv('https://raw.githubusercontent.com/kyleishaumbay/Umbay-Hierro-CSCI-161.03-UV2/main/datasets/elonmusk_cleaned_corpus.csv')\n",
        "corpus.head()"
      ]
    },
    {
      "cell_type": "markdown",
      "source": [
        "##Remove Stopwords"
      ],
      "metadata": {
        "id": "xSTzKZDn4HWs"
      }
    },
    {
      "cell_type": "markdown",
      "source": [
        "Stopwords like 'the', 'a', 'is', etc., are common words that don't usually carry much meaning. Removing them helps to focus on the more significant words in our text data."
      ],
      "metadata": {
        "id": "3yin9oPg4NAV"
      }
    },
    {
      "cell_type": "code",
      "execution_count": 4,
      "metadata": {
        "id": "Llzic9ZGiGSF",
        "colab": {
          "base_uri": "https://localhost:8080/",
          "height": 505
        },
        "outputId": "1fdcf54f-f0d2-4150-def1-907e5eec82c8"
      },
      "outputs": [
        {
          "output_type": "stream",
          "name": "stderr",
          "text": [
            "[nltk_data] Downloading package stopwords to /root/nltk_data...\n",
            "[nltk_data]   Unzipping corpora/stopwords.zip.\n"
          ]
        },
        {
          "output_type": "execute_result",
          "data": {
            "text/plain": [
              "                                               title  \\\n",
              "0  Taibbi is a journalist paid and bought by bill...   \n",
              "1  @@margobarranti Hello dear... I really appreci...   \n",
              "2  Hello dear... I really appreciate your likes a...   \n",
              "3  Hello dear... I really appreciate your likes a...   \n",
              "4  Hello dear... I really appreciate your likes a...   \n",
              "\n",
              "                                                link       date_published  \\\n",
              "0  https://www.youtube.com/watch?v=BB__743Jfm0&lc...  2025-09-09 20:34:11   \n",
              "1  https://www.youtube.com/watch?v=kzlUyrccbos&lc...  2025-09-09 20:26:01   \n",
              "2  https://www.youtube.com/watch?v=oO8w6XcXJUs&lc...  2025-09-09 20:05:41   \n",
              "3  https://www.youtube.com/watch?v=oO8w6XcXJUs&lc...  2025-09-09 20:04:40   \n",
              "4  https://www.youtube.com/watch?v=oO8w6XcXJUs&lc...  2025-09-09 20:04:28   \n",
              "\n",
              "                                                text  like_count  \\\n",
              "0  Taibbi is a journalist paid and bought by bill...           0   \n",
              "1  @@margobarranti Hello dear... I really appreci...           0   \n",
              "2  Hello dear... I really appreciate your likes a...           0   \n",
              "3  Hello dear... I really appreciate your likes a...           0   \n",
              "4  Hello dear... I really appreciate your likes a...           0   \n",
              "\n",
              "              reply_parent_id   source  \\\n",
              "0                         NaN  youtube   \n",
              "1  Ugy6M6SUBHCUtkU3RSh4AaABAg  youtube   \n",
              "2  UgzYT3Etk-P5otJtTKF4AaABAg  youtube   \n",
              "3  UgyIKvl9rpFtLHpw6Ul4AaABAg  youtube   \n",
              "4  UgyB14bghklGyJpGm2N4AaABAg  youtube   \n",
              "\n",
              "                                        cleaned_text  \n",
              "0  taibbi journalist billionaire sb taibi useful ...  \n",
              "1  hello dear appreciate comment touch send direc...  \n",
              "2  hello dear appreciate comment touch send direc...  \n",
              "3  hello dear appreciate comment touch send direc...  \n",
              "4  hello dear appreciate comment touch send direc...  "
            ],
            "text/html": [
              "\n",
              "  <div id=\"df-d4e3d8eb-1f37-4c13-889a-6ca0bf01ba7a\" class=\"colab-df-container\">\n",
              "    <div>\n",
              "<style scoped>\n",
              "    .dataframe tbody tr th:only-of-type {\n",
              "        vertical-align: middle;\n",
              "    }\n",
              "\n",
              "    .dataframe tbody tr th {\n",
              "        vertical-align: top;\n",
              "    }\n",
              "\n",
              "    .dataframe thead th {\n",
              "        text-align: right;\n",
              "    }\n",
              "</style>\n",
              "<table border=\"1\" class=\"dataframe\">\n",
              "  <thead>\n",
              "    <tr style=\"text-align: right;\">\n",
              "      <th></th>\n",
              "      <th>title</th>\n",
              "      <th>link</th>\n",
              "      <th>date_published</th>\n",
              "      <th>text</th>\n",
              "      <th>like_count</th>\n",
              "      <th>reply_parent_id</th>\n",
              "      <th>source</th>\n",
              "      <th>cleaned_text</th>\n",
              "    </tr>\n",
              "  </thead>\n",
              "  <tbody>\n",
              "    <tr>\n",
              "      <th>0</th>\n",
              "      <td>Taibbi is a journalist paid and bought by bill...</td>\n",
              "      <td>https://www.youtube.com/watch?v=BB__743Jfm0&amp;lc...</td>\n",
              "      <td>2025-09-09 20:34:11</td>\n",
              "      <td>Taibbi is a journalist paid and bought by bill...</td>\n",
              "      <td>0</td>\n",
              "      <td>NaN</td>\n",
              "      <td>youtube</td>\n",
              "      <td>taibbi journalist billionaire sb taibi useful ...</td>\n",
              "    </tr>\n",
              "    <tr>\n",
              "      <th>1</th>\n",
              "      <td>@@margobarranti Hello dear... I really appreci...</td>\n",
              "      <td>https://www.youtube.com/watch?v=kzlUyrccbos&amp;lc...</td>\n",
              "      <td>2025-09-09 20:26:01</td>\n",
              "      <td>@@margobarranti Hello dear... I really appreci...</td>\n",
              "      <td>0</td>\n",
              "      <td>Ugy6M6SUBHCUtkU3RSh4AaABAg</td>\n",
              "      <td>youtube</td>\n",
              "      <td>hello dear appreciate comment touch send direc...</td>\n",
              "    </tr>\n",
              "    <tr>\n",
              "      <th>2</th>\n",
              "      <td>Hello dear... I really appreciate your likes a...</td>\n",
              "      <td>https://www.youtube.com/watch?v=oO8w6XcXJUs&amp;lc...</td>\n",
              "      <td>2025-09-09 20:05:41</td>\n",
              "      <td>Hello dear... I really appreciate your likes a...</td>\n",
              "      <td>0</td>\n",
              "      <td>UgzYT3Etk-P5otJtTKF4AaABAg</td>\n",
              "      <td>youtube</td>\n",
              "      <td>hello dear appreciate comment touch send direc...</td>\n",
              "    </tr>\n",
              "    <tr>\n",
              "      <th>3</th>\n",
              "      <td>Hello dear... I really appreciate your likes a...</td>\n",
              "      <td>https://www.youtube.com/watch?v=oO8w6XcXJUs&amp;lc...</td>\n",
              "      <td>2025-09-09 20:04:40</td>\n",
              "      <td>Hello dear... I really appreciate your likes a...</td>\n",
              "      <td>0</td>\n",
              "      <td>UgyIKvl9rpFtLHpw6Ul4AaABAg</td>\n",
              "      <td>youtube</td>\n",
              "      <td>hello dear appreciate comment touch send direc...</td>\n",
              "    </tr>\n",
              "    <tr>\n",
              "      <th>4</th>\n",
              "      <td>Hello dear... I really appreciate your likes a...</td>\n",
              "      <td>https://www.youtube.com/watch?v=oO8w6XcXJUs&amp;lc...</td>\n",
              "      <td>2025-09-09 20:04:28</td>\n",
              "      <td>Hello dear... I really appreciate your likes a...</td>\n",
              "      <td>0</td>\n",
              "      <td>UgyB14bghklGyJpGm2N4AaABAg</td>\n",
              "      <td>youtube</td>\n",
              "      <td>hello dear appreciate comment touch send direc...</td>\n",
              "    </tr>\n",
              "  </tbody>\n",
              "</table>\n",
              "</div>\n",
              "    <div class=\"colab-df-buttons\">\n",
              "\n",
              "  <div class=\"colab-df-container\">\n",
              "    <button class=\"colab-df-convert\" onclick=\"convertToInteractive('df-d4e3d8eb-1f37-4c13-889a-6ca0bf01ba7a')\"\n",
              "            title=\"Convert this dataframe to an interactive table.\"\n",
              "            style=\"display:none;\">\n",
              "\n",
              "  <svg xmlns=\"http://www.w3.org/2000/svg\" height=\"24px\" viewBox=\"0 -960 960 960\">\n",
              "    <path d=\"M120-120v-720h720v720H120Zm60-500h600v-160H180v160Zm220 220h160v-160H400v160Zm0 220h160v-160H400v160ZM180-400h160v-160H180v160Zm440 0h160v-160H620v160ZM180-180h160v-160H180v160Zm440 0h160v-160H620v160Z\"/>\n",
              "  </svg>\n",
              "    </button>\n",
              "\n",
              "  <style>\n",
              "    .colab-df-container {\n",
              "      display:flex;\n",
              "      gap: 12px;\n",
              "    }\n",
              "\n",
              "    .colab-df-convert {\n",
              "      background-color: #E8F0FE;\n",
              "      border: none;\n",
              "      border-radius: 50%;\n",
              "      cursor: pointer;\n",
              "      display: none;\n",
              "      fill: #1967D2;\n",
              "      height: 32px;\n",
              "      padding: 0 0 0 0;\n",
              "      width: 32px;\n",
              "    }\n",
              "\n",
              "    .colab-df-convert:hover {\n",
              "      background-color: #E2EBFA;\n",
              "      box-shadow: 0px 1px 2px rgba(60, 64, 67, 0.3), 0px 1px 3px 1px rgba(60, 64, 67, 0.15);\n",
              "      fill: #174EA6;\n",
              "    }\n",
              "\n",
              "    .colab-df-buttons div {\n",
              "      margin-bottom: 4px;\n",
              "    }\n",
              "\n",
              "    [theme=dark] .colab-df-convert {\n",
              "      background-color: #3B4455;\n",
              "      fill: #D2E3FC;\n",
              "    }\n",
              "\n",
              "    [theme=dark] .colab-df-convert:hover {\n",
              "      background-color: #434B5C;\n",
              "      box-shadow: 0px 1px 3px 1px rgba(0, 0, 0, 0.15);\n",
              "      filter: drop-shadow(0px 1px 2px rgba(0, 0, 0, 0.3));\n",
              "      fill: #FFFFFF;\n",
              "    }\n",
              "  </style>\n",
              "\n",
              "    <script>\n",
              "      const buttonEl =\n",
              "        document.querySelector('#df-d4e3d8eb-1f37-4c13-889a-6ca0bf01ba7a button.colab-df-convert');\n",
              "      buttonEl.style.display =\n",
              "        google.colab.kernel.accessAllowed ? 'block' : 'none';\n",
              "\n",
              "      async function convertToInteractive(key) {\n",
              "        const element = document.querySelector('#df-d4e3d8eb-1f37-4c13-889a-6ca0bf01ba7a');\n",
              "        const dataTable =\n",
              "          await google.colab.kernel.invokeFunction('convertToInteractive',\n",
              "                                                    [key], {});\n",
              "        if (!dataTable) return;\n",
              "\n",
              "        const docLinkHtml = 'Like what you see? Visit the ' +\n",
              "          '<a target=\"_blank\" href=https://colab.research.google.com/notebooks/data_table.ipynb>data table notebook</a>'\n",
              "          + ' to learn more about interactive tables.';\n",
              "        element.innerHTML = '';\n",
              "        dataTable['output_type'] = 'display_data';\n",
              "        await google.colab.output.renderOutput(dataTable, element);\n",
              "        const docLink = document.createElement('div');\n",
              "        docLink.innerHTML = docLinkHtml;\n",
              "        element.appendChild(docLink);\n",
              "      }\n",
              "    </script>\n",
              "  </div>\n",
              "\n",
              "\n",
              "    <div id=\"df-3d5857cf-cbe7-474e-931b-4b5d62d6877b\">\n",
              "      <button class=\"colab-df-quickchart\" onclick=\"quickchart('df-3d5857cf-cbe7-474e-931b-4b5d62d6877b')\"\n",
              "                title=\"Suggest charts\"\n",
              "                style=\"display:none;\">\n",
              "\n",
              "<svg xmlns=\"http://www.w3.org/2000/svg\" height=\"24px\"viewBox=\"0 0 24 24\"\n",
              "     width=\"24px\">\n",
              "    <g>\n",
              "        <path d=\"M19 3H5c-1.1 0-2 .9-2 2v14c0 1.1.9 2 2 2h14c1.1 0 2-.9 2-2V5c0-1.1-.9-2-2-2zM9 17H7v-7h2v7zm4 0h-2V7h2v10zm4 0h-2v-4h2v4z\"/>\n",
              "    </g>\n",
              "</svg>\n",
              "      </button>\n",
              "\n",
              "<style>\n",
              "  .colab-df-quickchart {\n",
              "      --bg-color: #E8F0FE;\n",
              "      --fill-color: #1967D2;\n",
              "      --hover-bg-color: #E2EBFA;\n",
              "      --hover-fill-color: #174EA6;\n",
              "      --disabled-fill-color: #AAA;\n",
              "      --disabled-bg-color: #DDD;\n",
              "  }\n",
              "\n",
              "  [theme=dark] .colab-df-quickchart {\n",
              "      --bg-color: #3B4455;\n",
              "      --fill-color: #D2E3FC;\n",
              "      --hover-bg-color: #434B5C;\n",
              "      --hover-fill-color: #FFFFFF;\n",
              "      --disabled-bg-color: #3B4455;\n",
              "      --disabled-fill-color: #666;\n",
              "  }\n",
              "\n",
              "  .colab-df-quickchart {\n",
              "    background-color: var(--bg-color);\n",
              "    border: none;\n",
              "    border-radius: 50%;\n",
              "    cursor: pointer;\n",
              "    display: none;\n",
              "    fill: var(--fill-color);\n",
              "    height: 32px;\n",
              "    padding: 0;\n",
              "    width: 32px;\n",
              "  }\n",
              "\n",
              "  .colab-df-quickchart:hover {\n",
              "    background-color: var(--hover-bg-color);\n",
              "    box-shadow: 0 1px 2px rgba(60, 64, 67, 0.3), 0 1px 3px 1px rgba(60, 64, 67, 0.15);\n",
              "    fill: var(--button-hover-fill-color);\n",
              "  }\n",
              "\n",
              "  .colab-df-quickchart-complete:disabled,\n",
              "  .colab-df-quickchart-complete:disabled:hover {\n",
              "    background-color: var(--disabled-bg-color);\n",
              "    fill: var(--disabled-fill-color);\n",
              "    box-shadow: none;\n",
              "  }\n",
              "\n",
              "  .colab-df-spinner {\n",
              "    border: 2px solid var(--fill-color);\n",
              "    border-color: transparent;\n",
              "    border-bottom-color: var(--fill-color);\n",
              "    animation:\n",
              "      spin 1s steps(1) infinite;\n",
              "  }\n",
              "\n",
              "  @keyframes spin {\n",
              "    0% {\n",
              "      border-color: transparent;\n",
              "      border-bottom-color: var(--fill-color);\n",
              "      border-left-color: var(--fill-color);\n",
              "    }\n",
              "    20% {\n",
              "      border-color: transparent;\n",
              "      border-left-color: var(--fill-color);\n",
              "      border-top-color: var(--fill-color);\n",
              "    }\n",
              "    30% {\n",
              "      border-color: transparent;\n",
              "      border-left-color: var(--fill-color);\n",
              "      border-top-color: var(--fill-color);\n",
              "      border-right-color: var(--fill-color);\n",
              "    }\n",
              "    40% {\n",
              "      border-color: transparent;\n",
              "      border-right-color: var(--fill-color);\n",
              "      border-top-color: var(--fill-color);\n",
              "    }\n",
              "    60% {\n",
              "      border-color: transparent;\n",
              "      border-right-color: var(--fill-color);\n",
              "    }\n",
              "    80% {\n",
              "      border-color: transparent;\n",
              "      border-right-color: var(--fill-color);\n",
              "      border-bottom-color: var(--fill-color);\n",
              "    }\n",
              "    90% {\n",
              "      border-color: transparent;\n",
              "      border-bottom-color: var(--fill-color);\n",
              "    }\n",
              "  }\n",
              "</style>\n",
              "\n",
              "      <script>\n",
              "        async function quickchart(key) {\n",
              "          const quickchartButtonEl =\n",
              "            document.querySelector('#' + key + ' button');\n",
              "          quickchartButtonEl.disabled = true;  // To prevent multiple clicks.\n",
              "          quickchartButtonEl.classList.add('colab-df-spinner');\n",
              "          try {\n",
              "            const charts = await google.colab.kernel.invokeFunction(\n",
              "                'suggestCharts', [key], {});\n",
              "          } catch (error) {\n",
              "            console.error('Error during call to suggestCharts:', error);\n",
              "          }\n",
              "          quickchartButtonEl.classList.remove('colab-df-spinner');\n",
              "          quickchartButtonEl.classList.add('colab-df-quickchart-complete');\n",
              "        }\n",
              "        (() => {\n",
              "          let quickchartButtonEl =\n",
              "            document.querySelector('#df-3d5857cf-cbe7-474e-931b-4b5d62d6877b button');\n",
              "          quickchartButtonEl.style.display =\n",
              "            google.colab.kernel.accessAllowed ? 'block' : 'none';\n",
              "        })();\n",
              "      </script>\n",
              "    </div>\n",
              "\n",
              "    </div>\n",
              "  </div>\n"
            ],
            "application/vnd.google.colaboratory.intrinsic+json": {
              "type": "dataframe",
              "variable_name": "corpus",
              "summary": "{\n  \"name\": \"corpus\",\n  \"rows\": 3202,\n  \"fields\": [\n    {\n      \"column\": \"title\",\n      \"properties\": {\n        \"dtype\": \"string\",\n        \"num_unique_values\": 3038,\n        \"samples\": [\n          \"ACCELERATING\",\n          \"\\ud83d\\ude02 oh Stephen Miller\\u2026.\",\n          \"Look around the world nothing but suffer humanity\"\n        ],\n        \"semantic_type\": \"\",\n        \"description\": \"\"\n      }\n    },\n    {\n      \"column\": \"link\",\n      \"properties\": {\n        \"dtype\": \"string\",\n        \"num_unique_values\": 3101,\n        \"samples\": [\n          \"https://www.youtube.com/watch?v=y3ovm0THFYE&lc=UgwxLAKHssEF8qFutfx4AaABAg\",\n          \"https://www.youtube.com/watch?v=d6TksmldG7E&lc=UgwR8IAV9jQJ6EkAJhd4AaABAg.9qx9zCg6rPX9r-qfDCXkek\",\n          \"https://www.youtube.com/watch?v=kJzed7DQdGs&lc=Ugz7WQ7BpPWRrUJsLrp4AaABAg\"\n        ],\n        \"semantic_type\": \"\",\n        \"description\": \"\"\n      }\n    },\n    {\n      \"column\": \"date_published\",\n      \"properties\": {\n        \"dtype\": \"object\",\n        \"num_unique_values\": 3097,\n        \"samples\": [\n          \"2025-05-31 21:53:07\",\n          \"2025-06-23 20:41:57\",\n          \"2025-06-11 17:13:40\"\n        ],\n        \"semantic_type\": \"\",\n        \"description\": \"\"\n      }\n    },\n    {\n      \"column\": \"text\",\n      \"properties\": {\n        \"dtype\": \"string\",\n        \"num_unique_values\": 3036,\n        \"samples\": [\n          \"Is he. Drunk\",\n          \"Yuk, yuk. SNL: television for old hippies and lunkheads.\",\n          \"Look around the world nothing but suffer humanity\"\n        ],\n        \"semantic_type\": \"\",\n        \"description\": \"\"\n      }\n    },\n    {\n      \"column\": \"like_count\",\n      \"properties\": {\n        \"dtype\": \"number\",\n        \"std\": 163,\n        \"min\": 0,\n        \"max\": 8918,\n        \"num_unique_values\": 40,\n        \"samples\": [\n          30,\n          18,\n          31\n        ],\n        \"semantic_type\": \"\",\n        \"description\": \"\"\n      }\n    },\n    {\n      \"column\": \"reply_parent_id\",\n      \"properties\": {\n        \"dtype\": \"category\",\n        \"num_unique_values\": 193,\n        \"samples\": [\n          \"UgwuTzg_HQ4KgxtlGW14AaABAg\",\n          \"Ugw1Akn9CPf5U2EqSd14AaABAg\",\n          \"UgyK0E6aQczjo6VjuTR4AaABAg\"\n        ],\n        \"semantic_type\": \"\",\n        \"description\": \"\"\n      }\n    },\n    {\n      \"column\": \"source\",\n      \"properties\": {\n        \"dtype\": \"category\",\n        \"num_unique_values\": 1,\n        \"samples\": [\n          \"youtube\"\n        ],\n        \"semantic_type\": \"\",\n        \"description\": \"\"\n      }\n    },\n    {\n      \"column\": \"cleaned_text\",\n      \"properties\": {\n        \"dtype\": \"string\",\n        \"num_unique_values\": 2799,\n        \"samples\": [\n          \"kurkure akta bajje lok hate deep aamake khub jaliache amar jubin boston kore dile harami ta\"\n        ],\n        \"semantic_type\": \"\",\n        \"description\": \"\"\n      }\n    }\n  ]\n}"
            }
          },
          "metadata": {},
          "execution_count": 4
        }
      ],
      "source": [
        "import nltk\n",
        "from nltk.corpus import stopwords\n",
        "\n",
        "# Download the stopwords corpus\n",
        "nltk.download('stopwords')\n",
        "\n",
        "# Get the English stopwords\n",
        "stop_words = set(stopwords.words('english'))\n",
        "\n",
        "# Add 'musk' to the stopwords list\n",
        "stop_words.add('musk')\n",
        "\n",
        "# Function to remove stopwords\n",
        "def remove_stopwords(text):\n",
        "    if isinstance(text, str):\n",
        "        # Convert to lowercase before removing stopwords\n",
        "        return ' '.join([word for word in text.lower().split() if word not in stop_words])\n",
        "    return text\n",
        "\n",
        "# Apply the function to the 'cleaned_text' column\n",
        "corpus['cleaned_text'] = corpus['cleaned_text'].apply(remove_stopwords)\n",
        "\n",
        "# Display the updated dataframe\n",
        "corpus.head()"
      ]
    },
    {
      "cell_type": "markdown",
      "metadata": {
        "id": "prVjbTFbRCHW"
      },
      "source": [
        "# Static Word Embedding"
      ]
    },
    {
      "cell_type": "code",
      "execution_count": 5,
      "metadata": {
        "id": "shctv8KfRCHX"
      },
      "outputs": [],
      "source": [
        "# Tokenize the text, filtering out 'nan'\n",
        "corpus['tokenized_text'] = corpus['cleaned_text'].astype(str).apply(lambda x: x.split() if x != 'nan' else [])"
      ]
    },
    {
      "cell_type": "code",
      "execution_count": 6,
      "metadata": {
        "id": "iu9NEr9LRCHY",
        "outputId": "bc8891ff-47f8-4a68-f35e-7b3967d17898",
        "colab": {
          "base_uri": "https://localhost:8080/",
          "height": 465
        }
      },
      "outputs": [
        {
          "output_type": "display_data",
          "data": {
            "text/plain": [
              "0    taibbi journalist billionaire sb taibi useful ...\n",
              "1    hello dear appreciate comment touch send direc...\n",
              "2    hello dear appreciate comment touch send direc...\n",
              "3    hello dear appreciate comment touch send direc...\n",
              "4    hello dear appreciate comment touch send direc...\n",
              "Name: cleaned_text, dtype: object"
            ],
            "text/html": [
              "<div>\n",
              "<style scoped>\n",
              "    .dataframe tbody tr th:only-of-type {\n",
              "        vertical-align: middle;\n",
              "    }\n",
              "\n",
              "    .dataframe tbody tr th {\n",
              "        vertical-align: top;\n",
              "    }\n",
              "\n",
              "    .dataframe thead th {\n",
              "        text-align: right;\n",
              "    }\n",
              "</style>\n",
              "<table border=\"1\" class=\"dataframe\">\n",
              "  <thead>\n",
              "    <tr style=\"text-align: right;\">\n",
              "      <th></th>\n",
              "      <th>cleaned_text</th>\n",
              "    </tr>\n",
              "  </thead>\n",
              "  <tbody>\n",
              "    <tr>\n",
              "      <th>0</th>\n",
              "      <td>taibbi journalist billionaire sb taibi useful ...</td>\n",
              "    </tr>\n",
              "    <tr>\n",
              "      <th>1</th>\n",
              "      <td>hello dear appreciate comment touch send direc...</td>\n",
              "    </tr>\n",
              "    <tr>\n",
              "      <th>2</th>\n",
              "      <td>hello dear appreciate comment touch send direc...</td>\n",
              "    </tr>\n",
              "    <tr>\n",
              "      <th>3</th>\n",
              "      <td>hello dear appreciate comment touch send direc...</td>\n",
              "    </tr>\n",
              "    <tr>\n",
              "      <th>4</th>\n",
              "      <td>hello dear appreciate comment touch send direc...</td>\n",
              "    </tr>\n",
              "  </tbody>\n",
              "</table>\n",
              "</div><br><label><b>dtype:</b> object</label>"
            ]
          },
          "metadata": {}
        },
        {
          "output_type": "display_data",
          "data": {
            "text/plain": [
              "0    [taibbi, journalist, billionaire, sb, taibi, u...\n",
              "1    [hello, dear, appreciate, comment, touch, send...\n",
              "2    [hello, dear, appreciate, comment, touch, send...\n",
              "3    [hello, dear, appreciate, comment, touch, send...\n",
              "4    [hello, dear, appreciate, comment, touch, send...\n",
              "Name: tokenized_text, dtype: object"
            ],
            "text/html": [
              "<div>\n",
              "<style scoped>\n",
              "    .dataframe tbody tr th:only-of-type {\n",
              "        vertical-align: middle;\n",
              "    }\n",
              "\n",
              "    .dataframe tbody tr th {\n",
              "        vertical-align: top;\n",
              "    }\n",
              "\n",
              "    .dataframe thead th {\n",
              "        text-align: right;\n",
              "    }\n",
              "</style>\n",
              "<table border=\"1\" class=\"dataframe\">\n",
              "  <thead>\n",
              "    <tr style=\"text-align: right;\">\n",
              "      <th></th>\n",
              "      <th>tokenized_text</th>\n",
              "    </tr>\n",
              "  </thead>\n",
              "  <tbody>\n",
              "    <tr>\n",
              "      <th>0</th>\n",
              "      <td>[taibbi, journalist, billionaire, sb, taibi, u...</td>\n",
              "    </tr>\n",
              "    <tr>\n",
              "      <th>1</th>\n",
              "      <td>[hello, dear, appreciate, comment, touch, send...</td>\n",
              "    </tr>\n",
              "    <tr>\n",
              "      <th>2</th>\n",
              "      <td>[hello, dear, appreciate, comment, touch, send...</td>\n",
              "    </tr>\n",
              "    <tr>\n",
              "      <th>3</th>\n",
              "      <td>[hello, dear, appreciate, comment, touch, send...</td>\n",
              "    </tr>\n",
              "    <tr>\n",
              "      <th>4</th>\n",
              "      <td>[hello, dear, appreciate, comment, touch, send...</td>\n",
              "    </tr>\n",
              "  </tbody>\n",
              "</table>\n",
              "</div><br><label><b>dtype:</b> object</label>"
            ]
          },
          "metadata": {}
        }
      ],
      "source": [
        "display(\n",
        "  corpus['cleaned_text'].head()\n",
        ")\n",
        "\n",
        "display(\n",
        "  corpus['tokenized_text'].head()\n",
        ")"
      ]
    },
    {
      "cell_type": "code",
      "execution_count": 7,
      "metadata": {
        "id": "fX2A1OxvRCHb"
      },
      "outputs": [],
      "source": [
        "# Train the word2vec model, filtering out empty lists\n",
        "model = gensim.models.Word2Vec([tokens for tokens in corpus['tokenized_text'] if tokens],\n",
        "                               vector_size=100,  # Dimension of the word vectors\n",
        "                               min_count=1,    # Ignores all words with total frequency lower min_count\n",
        "                               sg=0,           # Training algorithm: 0 for CBOW; 1 for Skip-gram\n",
        "                               window=5,       # Maximum distance between the current & predicted word within a sentence\n",
        "                               workers=4,      # Number of workers to use for training\n",
        "                               epochs=10       # Number of iterations over the corpus\n",
        "                               )\n",
        "\n",
        "model.save('word2vec.model')"
      ]
    },
    {
      "cell_type": "markdown",
      "metadata": {
        "id": "YZSliHQdRCHc"
      },
      "source": [
        "## Inspecting the word2vec"
      ]
    },
    {
      "cell_type": "code",
      "execution_count": 8,
      "metadata": {
        "id": "kkh7PWcJRCHd"
      },
      "outputs": [],
      "source": [
        "# Load the model\n",
        "model = gensim.models.Word2Vec.load('word2vec.model')\n",
        "\n",
        "# Get vectors from the model\n",
        "vectors = model.wv"
      ]
    },
    {
      "cell_type": "markdown",
      "metadata": {
        "id": "pylQIxGgRCHd"
      },
      "source": [
        "### Number of word vectors generated"
      ]
    },
    {
      "cell_type": "code",
      "execution_count": 9,
      "metadata": {
        "id": "i8u1qbH7RCHe",
        "outputId": "1939d15e-0891-4898-a525-59f82facd4df",
        "colab": {
          "base_uri": "https://localhost:8080/"
        }
      },
      "outputs": [
        {
          "output_type": "execute_result",
          "data": {
            "text/plain": [
              "7828"
            ]
          },
          "metadata": {},
          "execution_count": 9
        }
      ],
      "source": [
        "# Number of word vectors generated (columns)\n",
        "len(vectors)"
      ]
    },
    {
      "cell_type": "markdown",
      "metadata": {
        "id": "EPG1Cfv3RCHe"
      },
      "source": [
        "### List of words / tokens sorted by most frequent"
      ]
    },
    {
      "cell_type": "code",
      "execution_count": 10,
      "metadata": {
        "id": "GqfvZmc0RCHe",
        "outputId": "0e377e3e-608e-43cd-d5d9-7bc2e94b4682",
        "colab": {
          "base_uri": "https://localhost:8080/"
        }
      },
      "outputs": [
        {
          "output_type": "execute_result",
          "data": {
            "text/plain": [
              "['elon',\n",
              " 'trump',\n",
              " 'party',\n",
              " 'tesla',\n",
              " 'world',\n",
              " 'money',\n",
              " 'human',\n",
              " 'u',\n",
              " 'america',\n",
              " 'president']"
            ]
          },
          "metadata": {},
          "execution_count": 10
        }
      ],
      "source": [
        "# List of words / tokens sorted by most frequent\n",
        "vectors.index_to_key\n",
        "vectors.index_to_key[:10]  # Top 10 words"
      ]
    },
    {
      "cell_type": "markdown",
      "metadata": {
        "id": "JmhwO3Q5RCHf"
      },
      "source": [
        "### Similarity between two words"
      ]
    },
    {
      "cell_type": "code",
      "execution_count": 11,
      "metadata": {
        "id": "BtWGhUfKRCHf",
        "outputId": "0594e21e-6a72-424e-8226-954866cdbc86",
        "colab": {
          "base_uri": "https://localhost:8080/"
        }
      },
      "outputs": [
        {
          "output_type": "execute_result",
          "data": {
            "text/plain": [
              "0.99975234"
            ]
          },
          "metadata": {},
          "execution_count": 11
        }
      ],
      "source": [
        "# The similarity method returns a score of how similar the vectors of two words are. The closer the score is to 1, the higher the similarity. The closer to 0, the lower the similarity.\n",
        "vectors.similarity('elon', 'trump')"
      ]
    },
    {
      "cell_type": "code",
      "source": [
        "# The similarity method returns a score of how similar the vectors of two words are. The closer the score is to 1, the higher the similarity. The closer to 0, the lower the similarity.\n",
        "vectors.similarity('elon', 'party')"
      ],
      "metadata": {
        "colab": {
          "base_uri": "https://localhost:8080/"
        },
        "id": "gmIB_z1Q7met",
        "outputId": "044ff8ed-86b4-4421-e4bb-fd2c1c8bf067"
      },
      "execution_count": 12,
      "outputs": [
        {
          "output_type": "execute_result",
          "data": {
            "text/plain": [
              "0.9991234"
            ]
          },
          "metadata": {},
          "execution_count": 12
        }
      ]
    },
    {
      "cell_type": "code",
      "source": [
        "# The similarity method returns a score of how similar the vectors of two words are. The closer the score is to 1, the higher the similarity. The closer to 0, the lower the similarity.\n",
        "vectors.similarity('party', 'trump')"
      ],
      "metadata": {
        "colab": {
          "base_uri": "https://localhost:8080/"
        },
        "id": "xZn7XdQ-7oOt",
        "outputId": "2a2fd45f-d569-44b1-8def-c5184ae799bf"
      },
      "execution_count": 13,
      "outputs": [
        {
          "output_type": "execute_result",
          "data": {
            "text/plain": [
              "0.9991031"
            ]
          },
          "metadata": {},
          "execution_count": 13
        }
      ]
    },
    {
      "cell_type": "markdown",
      "metadata": {
        "id": "5oRjmwAORCHf"
      },
      "source": [
        "### Distance between two words"
      ]
    },
    {
      "cell_type": "code",
      "execution_count": 14,
      "metadata": {
        "id": "ocv0JGflRCHf",
        "outputId": "1acb710d-71e2-4b5f-bdd7-b786df71a74f",
        "colab": {
          "base_uri": "https://localhost:8080/"
        }
      },
      "outputs": [
        {
          "output_type": "execute_result",
          "data": {
            "text/plain": [
              "0.00024765729904174805"
            ]
          },
          "metadata": {},
          "execution_count": 14
        }
      ],
      "source": [
        "# The distance method is the opposite of the similarity method; it returns how dissimilar the vectors of two words are. The closer the score is to 1, the higher the distance and the lower the similarity. The closer to 0, the lower the distance and the higher the similarity.\n",
        "vectors.distance('elon', 'trump')"
      ]
    },
    {
      "cell_type": "code",
      "source": [
        "# The distance method is the opposite of the similarity method; it returns how dissimilar the vectors of two words are. The closer the score is to 1, the higher the distance and the lower the similarity. The closer to 0, the lower the distance and the higher the similarity.\n",
        "vectors.distance('elon', 'party')"
      ],
      "metadata": {
        "colab": {
          "base_uri": "https://localhost:8080/"
        },
        "id": "_WhTI2kH7sBG",
        "outputId": "b76886c5-53c2-44cb-9b9c-79ea95d75f66"
      },
      "execution_count": 15,
      "outputs": [
        {
          "output_type": "execute_result",
          "data": {
            "text/plain": [
              "0.0008766055107116699"
            ]
          },
          "metadata": {},
          "execution_count": 15
        }
      ]
    },
    {
      "cell_type": "code",
      "source": [
        "# The distance method is the opposite of the similarity method; it returns how dissimilar the vectors of two words are. The closer the score is to 1, the higher the distance and the lower the similarity. The closer to 0, the lower the distance and the higher the similarity.\n",
        "vectors.distance('party', 'trump')"
      ],
      "metadata": {
        "colab": {
          "base_uri": "https://localhost:8080/"
        },
        "id": "am0Xhr7H7uEG",
        "outputId": "7e6e97ad-8e63-47c3-ef2c-bcfca59f8c5e"
      },
      "execution_count": 16,
      "outputs": [
        {
          "output_type": "execute_result",
          "data": {
            "text/plain": [
              "0.0008968710899353027"
            ]
          },
          "metadata": {},
          "execution_count": 16
        }
      ]
    },
    {
      "cell_type": "markdown",
      "metadata": {
        "id": "WlCYZSKPRCHf"
      },
      "source": [
        "### Most similar & dissimilar to the given words"
      ]
    },
    {
      "cell_type": "markdown",
      "metadata": {
        "id": "9bb3db37"
      },
      "source": [
        "# **1. Most similar words (Using Static Word Embedding) from the top occurring words (max of 3 words, from Term-Frequency Language Model).**\n",
        "\n",
        "This section identifies and displays the words that are most similar in meaning to the top 3 most frequent words found in the corpus."
      ]
    },
    {
      "cell_type": "code",
      "execution_count": 17,
      "metadata": {
        "id": "Ohnh77m2RCHf",
        "outputId": "988c748d-3e3c-4f94-a020-37edb743a5dd",
        "colab": {
          "base_uri": "https://localhost:8080/"
        }
      },
      "outputs": [
        {
          "output_type": "execute_result",
          "data": {
            "text/plain": [
              "[('trump', 0.9997523427009583),\n",
              " ('u', 0.9997217655181885),\n",
              " ('human', 0.9996879696846008),\n",
              " ('country', 0.9996721744537354),\n",
              " ('tesla', 0.999667227268219),\n",
              " ('world', 0.9996666312217712),\n",
              " ('ai', 0.9996572136878967),\n",
              " ('company', 0.9996161460876465),\n",
              " ('may', 0.9995981454849243),\n",
              " ('government', 0.9995905160903931)]"
            ]
          },
          "metadata": {},
          "execution_count": 17
        }
      ],
      "source": [
        "# The most_similar method returns words whose vectors are most similar to the given word.\n",
        "vectors.most_similar('elon', topn=10)"
      ]
    },
    {
      "cell_type": "code",
      "source": [
        "# The most_similar method returns words whose vectors are most similar to the given word.\n",
        "vectors.most_similar('trump', topn=10)"
      ],
      "metadata": {
        "colab": {
          "base_uri": "https://localhost:8080/"
        },
        "id": "DrlJgW7q76rw",
        "outputId": "7d3c081c-66e6-49bb-ab94-97d80ed26f08"
      },
      "execution_count": 18,
      "outputs": [
        {
          "output_type": "execute_result",
          "data": {
            "text/plain": [
              "[('elon', 0.9997523427009583),\n",
              " ('u', 0.9996601343154907),\n",
              " ('tesla', 0.999649703502655),\n",
              " ('also', 0.9996361136436462),\n",
              " ('human', 0.9996134638786316),\n",
              " ('world', 0.9996072053909302),\n",
              " ('country', 0.9996017813682556),\n",
              " ('happen', 0.9995865225791931),\n",
              " ('government', 0.9995805621147156),\n",
              " ('ai', 0.9995603561401367)]"
            ]
          },
          "metadata": {},
          "execution_count": 18
        }
      ]
    },
    {
      "cell_type": "code",
      "source": [
        "# The most_similar method returns words whose vectors are most similar to the given word.\n",
        "vectors.most_similar('party', topn=10)"
      ],
      "metadata": {
        "colab": {
          "base_uri": "https://localhost:8080/"
        },
        "id": "UV-z5tl37-LQ",
        "outputId": "efb05065-c580-4085-dc77-ac3b70f55cdb"
      },
      "execution_count": 19,
      "outputs": [
        {
          "output_type": "execute_result",
          "data": {
            "text/plain": [
              "[('new', 0.9994332194328308),\n",
              " ('america', 0.9993443489074707),\n",
              " ('american', 0.9993326663970947),\n",
              " ('country', 0.9992889165878296),\n",
              " ('political', 0.9992655515670776),\n",
              " ('world', 0.9992629289627075),\n",
              " ('u', 0.9991500377655029),\n",
              " ('two', 0.9991481304168701),\n",
              " ('elon', 0.9991234540939331),\n",
              " ('politics', 0.9991158246994019)]"
            ]
          },
          "metadata": {},
          "execution_count": 19
        }
      ]
    },
    {
      "cell_type": "code",
      "execution_count": 20,
      "metadata": {
        "id": "gYL6JNXTRCHg",
        "outputId": "ef90f893-72ea-4370-e07e-123536c23caa",
        "colab": {
          "base_uri": "https://localhost:8080/"
        }
      },
      "outputs": [
        {
          "output_type": "execute_result",
          "data": {
            "text/plain": [
              "[('caught', 0.2683079242706299),\n",
              " ('softball', 0.2587355077266693),\n",
              " ('korea', 0.249346062541008),\n",
              " ('bureaucrat', 0.24096837639808655),\n",
              " ('dictating', 0.24088232219219208),\n",
              " ('czekam', 0.2406722903251648),\n",
              " ('elonreevemusk', 0.22468137741088867),\n",
              " ('aspirational', 0.22239719331264496),\n",
              " ('dytopian', 0.22222274541854858),\n",
              " ('scammer', 0.2202211618423462)]"
            ]
          },
          "metadata": {},
          "execution_count": 20
        }
      ],
      "source": [
        "# Output the words whose vectors are most similar and dissimilar to the given words.\n",
        "vectors.most_similar(\n",
        "  positive=['elon'],  # most similar to these words and\n",
        "  negative=['trump'],  # most dissimilar to these word\n",
        "  topn=10\n",
        ")"
      ]
    },
    {
      "cell_type": "code",
      "source": [
        "# Output the words whose vectors are most similar and dissimilar to the given words.\n",
        "vectors.most_similar(\n",
        "  positive=['trump'],  # most similar to these words and\n",
        "  negative=['elon'],  # most dissimilar to these word\n",
        "  topn=10\n",
        ")"
      ],
      "metadata": {
        "colab": {
          "base_uri": "https://localhost:8080/"
        },
        "id": "fyWedD928KWs",
        "outputId": "59985a76-1e40-475e-e720-b1707117c77d"
      },
      "execution_count": 21,
      "outputs": [
        {
          "output_type": "execute_result",
          "data": {
            "text/plain": [
              "[('irk', 0.3163606822490692),\n",
              " ('despyes', 0.308842271566391),\n",
              " ('subbed', 0.27439627051353455),\n",
              " ('esos', 0.27132025361061096),\n",
              " ('margin', 0.2657189667224884),\n",
              " ('install', 0.25860893726348877),\n",
              " ('misssd', 0.24901169538497925),\n",
              " ('yyo', 0.24897126853466034),\n",
              " ('knot', 0.2405329793691635),\n",
              " ('alingment', 0.2316112071275711)]"
            ]
          },
          "metadata": {},
          "execution_count": 21
        }
      ]
    },
    {
      "cell_type": "code",
      "source": [
        "# Output the words whose vectors are most similar and dissimilar to the given words.\n",
        "vectors.most_similar(\n",
        "  positive=['elon'],  # most similar to these words and\n",
        "  negative=['party'],  # most dissimilar to these word\n",
        "  topn=10\n",
        ")"
      ],
      "metadata": {
        "colab": {
          "base_uri": "https://localhost:8080/"
        },
        "id": "D0twDkQs8NCi",
        "outputId": "ffd23b1d-14d0-4936-a2a3-d82f698b0555"
      },
      "execution_count": 22,
      "outputs": [
        {
          "output_type": "execute_result",
          "data": {
            "text/plain": [
              "[('shave', 0.30829131603240967),\n",
              " ('bros', 0.27594420313835144),\n",
              " ('bitch', 0.272441565990448),\n",
              " ('schwab', 0.26247653365135193),\n",
              " ('recover', 0.26000159978866577),\n",
              " ('yanhahahha', 0.25343337655067444),\n",
              " ('fools', 0.24935577809810638),\n",
              " ('prank', 0.24133671820163727),\n",
              " ('copyright', 0.23741185665130615),\n",
              " ('mistreat', 0.23622657358646393)]"
            ]
          },
          "metadata": {},
          "execution_count": 22
        }
      ]
    },
    {
      "cell_type": "code",
      "source": [
        "# Output the words whose vectors are most similar and dissimilar to the given words.\n",
        "vectors.most_similar(\n",
        "  positive=['party'],  # most similar to these words and\n",
        "  negative=['elon'],  # most dissimilar to these word\n",
        "  topn=10\n",
        ")"
      ],
      "metadata": {
        "colab": {
          "base_uri": "https://localhost:8080/"
        },
        "id": "UOI6Ogz98PKC",
        "outputId": "f98cb082-d1fb-447e-e829-8f84b1a57615"
      },
      "execution_count": 23,
      "outputs": [
        {
          "output_type": "execute_result",
          "data": {
            "text/plain": [
              "[('ws', 0.3320653438568115),\n",
              " ('kimball', 0.2717799246311188),\n",
              " ('hawking', 0.24837535619735718),\n",
              " ('alright', 0.24226468801498413),\n",
              " ('cartoon', 0.23661969602108002),\n",
              " ('steering', 0.2326505333185196),\n",
              " ('superb', 0.22571246325969696),\n",
              " ('asymmetric', 0.2146836370229721),\n",
              " ('activism', 0.21195489168167114),\n",
              " ('boeing', 0.20821090042591095)]"
            ]
          },
          "metadata": {},
          "execution_count": 23
        }
      ]
    },
    {
      "cell_type": "code",
      "source": [
        "# Output the words whose vectors are most similar and dissimilar to the given words.\n",
        "vectors.most_similar(\n",
        "  positive=['party'],  # most similar to these words and\n",
        "  negative=['trump'],  # most dissimilar to these word\n",
        "  topn=10\n",
        ")"
      ],
      "metadata": {
        "colab": {
          "base_uri": "https://localhost:8080/"
        },
        "id": "mFRdw9jN8XUi",
        "outputId": "49f8ac38-3f2f-4100-cc27-1803a9f6b6f0"
      },
      "execution_count": 24,
      "outputs": [
        {
          "output_type": "execute_result",
          "data": {
            "text/plain": [
              "[('ws', 0.3287975490093231),\n",
              " ('roblox', 0.30774030089378357),\n",
              " ('hawking', 0.3038850724697113),\n",
              " ('tyson', 0.2747548818588257),\n",
              " ('kimball', 0.26037493348121643),\n",
              " ('indeed', 0.24769876897335052),\n",
              " ('whhat', 0.23264573514461517),\n",
              " ('caught', 0.22873498499393463),\n",
              " ('cartoon', 0.2258778214454651),\n",
              " ('liz', 0.22553037106990814)]"
            ]
          },
          "metadata": {},
          "execution_count": 24
        }
      ]
    },
    {
      "cell_type": "code",
      "source": [
        "# Output the words whose vectors are most similar and dissimilar to the given words.\n",
        "vectors.most_similar(\n",
        "  positive=['trump'],  # most similar to these words and\n",
        "  negative=['party'],  # most dissimilar to these word\n",
        "  topn=10\n",
        ")"
      ],
      "metadata": {
        "colab": {
          "base_uri": "https://localhost:8080/"
        },
        "id": "vh4q2jIO8YwS",
        "outputId": "8dadd455-d5bf-4ab6-d6f1-54a1cf12c8f1"
      },
      "execution_count": 25,
      "outputs": [
        {
          "output_type": "execute_result",
          "data": {
            "text/plain": [
              "[('bitch', 0.36078333854675293),\n",
              " ('teqq', 0.30955445766448975),\n",
              " ('shave', 0.28429898619651794),\n",
              " ('recover', 0.27089908719062805),\n",
              " ('puenso', 0.26759859919548035),\n",
              " ('mistreat', 0.26140880584716797),\n",
              " ('chapterme', 0.24544744193553925),\n",
              " ('silverware', 0.23716525733470917),\n",
              " ('yanhahahha', 0.236636221408844),\n",
              " ('mw', 0.2293487787246704)]"
            ]
          },
          "metadata": {},
          "execution_count": 25
        }
      ]
    },
    {
      "cell_type": "markdown",
      "metadata": {
        "id": "gFsac-UFRCHg"
      },
      "source": [
        "### Word that is least like the other given words"
      ]
    },
    {
      "cell_type": "code",
      "execution_count": 26,
      "metadata": {
        "id": "zDALDWB7RCHl",
        "outputId": "e730099f-09b1-4d13-af8e-b39f092c8196",
        "colab": {
          "base_uri": "https://localhost:8080/",
          "height": 35
        }
      },
      "outputs": [
        {
          "output_type": "execute_result",
          "data": {
            "text/plain": [
              "'party'"
            ],
            "application/vnd.google.colaboratory.intrinsic+json": {
              "type": "string"
            }
          },
          "metadata": {},
          "execution_count": 26
        }
      ],
      "source": [
        "odd_one_out_words = \"elon trump party\"\n",
        "odd_one_out_words = odd_one_out_words.split()\n",
        "vectors.doesnt_match(odd_one_out_words)"
      ]
    },
    {
      "cell_type": "code",
      "execution_count": 27,
      "metadata": {
        "id": "eRi6GVmkRCHl",
        "outputId": "96d89079-ebf2-4607-c633-5788e1cdec7d",
        "colab": {
          "base_uri": "https://localhost:8080/"
        }
      },
      "outputs": [
        {
          "output_type": "execute_result",
          "data": {
            "text/plain": [
              "[('teqq', 0.0001872109),\n",
              " ('til', 0.0001864767),\n",
              " ('maded', 0.00018605961),\n",
              " ('deadlines', 0.00018558608),\n",
              " ('clase', 0.00018542932)]"
            ]
          },
          "metadata": {},
          "execution_count": 27
        }
      ],
      "source": [
        "context_words = \"elon\"\n",
        "context_words = context_words.split()\n",
        "model.predict_output_word(context_words, topn=5)"
      ]
    },
    {
      "cell_type": "code",
      "source": [
        "context_words = \"trump\"\n",
        "context_words = context_words.split()\n",
        "model.predict_output_word(context_words, topn=5)"
      ],
      "metadata": {
        "colab": {
          "base_uri": "https://localhost:8080/"
        },
        "id": "YxsvcP7X8fxk",
        "outputId": "b4fd41ca-2940-46c6-bcb1-8e46057faebd"
      },
      "execution_count": 28,
      "outputs": [
        {
          "output_type": "execute_result",
          "data": {
            "text/plain": [
              "[('teqq', 0.00018551316),\n",
              " ('til', 0.00018479479),\n",
              " ('maded', 0.00018438522),\n",
              " ('deadlines', 0.0001839346),\n",
              " ('clase', 0.0001837946)]"
            ]
          },
          "metadata": {},
          "execution_count": 28
        }
      ]
    },
    {
      "cell_type": "code",
      "source": [
        "context_words = \"party\"\n",
        "context_words = context_words.split()\n",
        "model.predict_output_word(context_words, topn=5)"
      ],
      "metadata": {
        "colab": {
          "base_uri": "https://localhost:8080/"
        },
        "id": "Ntl4yw3x8imw",
        "outputId": "ae005382-33ff-4f9a-b472-e5e69dfa3c85"
      },
      "execution_count": 29,
      "outputs": [
        {
          "output_type": "execute_result",
          "data": {
            "text/plain": [
              "[('teqq', 0.00017771152),\n",
              " ('til', 0.00017713325),\n",
              " ('maded', 0.00017678815),\n",
              " ('deadlines', 0.00017645098),\n",
              " ('clase', 0.00017629964)]"
            ]
          },
          "metadata": {},
          "execution_count": 29
        }
      ]
    },
    {
      "cell_type": "markdown",
      "metadata": {
        "id": "teN7GUFYRCHl"
      },
      "source": [
        "## Plotting vectors"
      ]
    },
    {
      "cell_type": "code",
      "execution_count": 30,
      "metadata": {
        "id": "KwM_ZcLERCHm",
        "outputId": "f1eb2e4d-9e77-432d-df62-0c262817e19a",
        "colab": {
          "base_uri": "https://localhost:8080/",
          "height": 430
        }
      },
      "outputs": [
        {
          "output_type": "display_data",
          "data": {
            "text/plain": [
              "<Figure size 640x480 with 1 Axes>"
            ],
            "image/png": "[encoded data removed]"
          },
          "metadata": {}
        }
      ],
      "source": [
        "# Plot word vectors\n",
        "def plot_vectors(vectors, words):\n",
        "  # Create a figure and a 2D Axes\n",
        "  fig, ax = plt.subplots()\n",
        "\n",
        "  for word in words:\n",
        "    # Get the vector for the word\n",
        "    vector = vectors[word]\n",
        "\n",
        "    # Plot the word near the arrow head\n",
        "    ax.text(vector[0] + 0.01, vector[1] + 0.01, word, fontsize=9)\n",
        "    # Plot the vector\n",
        "    ax.arrow(\n",
        "      0,                      # Start x\n",
        "      0,                      # Start y\n",
        "      vector[0],              # End x\n",
        "      vector[1],              # End y\n",
        "      # head_width=0.05,      # Arrow head width\n",
        "      # head_length=0.1       # Arrow head length\n",
        "      head_width=0.05 * 0.1,  # Arrow head width\n",
        "      head_length=0.1 * 0.1,  # Arrow head length\n",
        "      lw=0.01,                # Arrow line width\n",
        "      # fc='r',                 # Arrow fill color\n",
        "      # ec='r'                  # Arrow edge color\n",
        "    )\n",
        "\n",
        "  # Remove border around the plot\n",
        "  ax.spines['top'].set_visible(False)\n",
        "  ax.spines['right'].set_visible(False)\n",
        "  ax.spines['bottom'].set_visible(False)\n",
        "  ax.spines['left'].set_visible(False)\n",
        "\n",
        "  plt.grid()\n",
        "\n",
        "  # Display the plot\n",
        "  plt.show()\n",
        "\n",
        "\n",
        "plot_vectors(vectors, vectors.index_to_key[:2])"
      ]
    },
    {
      "cell_type": "markdown",
      "metadata": {
        "id": "aPcdNgEpRCHm"
      },
      "source": [
        "## Plotting with Principal Component Analysis (PCA)"
      ]
    },
    {
      "cell_type": "code",
      "execution_count": 31,
      "metadata": {
        "id": "nw21TzEFRCHm"
      },
      "outputs": [],
      "source": [
        "import seaborn as sns\n",
        "import matplotlib.pyplot as plt\n",
        "from sklearn.decomposition import PCA"
      ]
    },
    {
      "cell_type": "code",
      "execution_count": 32,
      "metadata": {
        "id": "lTvOXIflRCHm",
        "outputId": "f9f6ecea-b559-445f-bd7d-2f602fc93661",
        "colab": {
          "base_uri": "https://localhost:8080/"
        }
      },
      "outputs": [
        {
          "output_type": "execute_result",
          "data": {
            "text/plain": [
              "['trump', 'u', 'human', 'country', 'tesla']"
            ]
          },
          "metadata": {},
          "execution_count": 32
        }
      ],
      "source": [
        "# Words most similar to 'elon'\n",
        "vectors.most_similar('elon', topn=5)\n",
        "word_set1 = [word for word, score in vectors.most_similar('elon', topn=5)]\n",
        "word_set1"
      ]
    },
    {
      "cell_type": "code",
      "execution_count": 33,
      "metadata": {
        "id": "da7qS6qCRCHm",
        "outputId": "c47a00d6-7bce-4422-825f-aa0b65028da2",
        "colab": {
          "base_uri": "https://localhost:8080/"
        }
      },
      "outputs": [
        {
          "output_type": "execute_result",
          "data": {
            "text/plain": [
              "['elon', 'u', 'tesla', 'also', 'human']"
            ]
          },
          "metadata": {},
          "execution_count": 33
        }
      ],
      "source": [
        "# Words most similar to 'scam'\n",
        "vectors.most_similar('trump', topn=5)\n",
        "word_set2 = [word for word, score in vectors.most_similar('trump', topn=5)]\n",
        "word_set2"
      ]
    },
    {
      "cell_type": "code",
      "source": [
        "# Words most similar to 'scam'\n",
        "vectors.most_similar('party', topn=5)\n",
        "word_set3 = [word for word, score in vectors.most_similar('party', topn=5)]\n",
        "word_set3"
      ],
      "metadata": {
        "colab": {
          "base_uri": "https://localhost:8080/"
        },
        "id": "fRCfuWcB8s91",
        "outputId": "2841de0d-2da1-426a-febf-db66c77e499f"
      },
      "execution_count": 34,
      "outputs": [
        {
          "output_type": "execute_result",
          "data": {
            "text/plain": [
              "['new', 'america', 'american', 'country', 'political']"
            ]
          },
          "metadata": {},
          "execution_count": 34
        }
      ]
    },
    {
      "cell_type": "code",
      "execution_count": 35,
      "metadata": {
        "id": "zYwo722JRCHn",
        "outputId": "d4f2552a-ab7f-4ee5-c652-3dc06f82a2f4",
        "colab": {
          "base_uri": "https://localhost:8080/"
        }
      },
      "outputs": [
        {
          "output_type": "execute_result",
          "data": {
            "text/plain": [
              "['trump',\n",
              " 'u',\n",
              " 'human',\n",
              " 'country',\n",
              " 'tesla',\n",
              " 'elon',\n",
              " 'u',\n",
              " 'tesla',\n",
              " 'also',\n",
              " 'human',\n",
              " 'new',\n",
              " 'america',\n",
              " 'american',\n",
              " 'country',\n",
              " 'political']"
            ]
          },
          "metadata": {},
          "execution_count": 35
        }
      ],
      "source": [
        "words_to_viz = word_set1 + word_set2 + word_set3\n",
        "words_to_viz"
      ]
    },
    {
      "cell_type": "code",
      "execution_count": 36,
      "metadata": {
        "id": "3ZUkGh6pRCHo",
        "outputId": "c7a670bf-a58f-40f0-e881-524de2e5f66c",
        "colab": {
          "base_uri": "https://localhost:8080/"
        }
      },
      "outputs": [
        {
          "output_type": "execute_result",
          "data": {
            "text/plain": [
              "[array([-0.2441223 ,  0.7113803 ,  0.30453655, -0.04824951,  0.13432205,\n",
              "        -0.7933985 ,  0.00153358,  1.2381603 , -0.3370511 , -0.227231  ,\n",
              "        -0.3001971 , -0.77007675, -0.26125488,  0.23461361,  0.17014264,\n",
              "        -0.5629939 ,  0.09250721, -0.6569698 ,  0.11046464, -1.1832186 ,\n",
              "         0.13931467,  0.38355318,  0.5643044 , -0.214055  , -0.12358209,\n",
              "         0.09061624, -0.26220977, -0.23879018, -0.6223494 ,  0.00869856,\n",
              "         0.60621274,  0.00484883, -0.14164509, -0.40730992, -0.15581739,\n",
              "         0.53180486,  0.1146162 , -0.41824907, -0.2259515 , -0.9434004 ,\n",
              "         0.05994035, -0.5469509 , -0.31223974, -0.05666431,  0.4565239 ,\n",
              "        -0.3193352 , -0.39657196,  0.21809138,  0.00339157,  0.48330748,\n",
              "         0.147558  , -0.5835651 , -0.3984785 , -0.03966018, -0.45092332,\n",
              "         0.31681043,  0.48798305, -0.01001082, -0.38109052,  0.10656825,\n",
              "         0.23698877,  0.40417987, -0.31310254,  0.14237697, -0.42040715,\n",
              "         0.43836692,  0.2575897 ,  0.30441114, -0.44321647,  0.67432433,\n",
              "        -0.11435369,  0.24680886,  0.49776095, -0.11255302,  0.3772271 ,\n",
              "         0.35635898, -0.04871103, -0.11231478, -0.45761773,  0.1586638 ,\n",
              "        -0.18159261, -0.3062055 , -0.30510727,  0.7144429 , -0.04765848,\n",
              "        -0.03777991, -0.24652751,  0.5580775 ,  0.661813  ,  0.20143548,\n",
              "         0.45317468,  0.28362265,  0.07571433,  0.21345225,  0.96315026,\n",
              "         0.49142042,  0.5641803 , -0.7181384 ,  0.19116916,  0.08508193],\n",
              "       dtype=float32),\n",
              " array([-0.20372863,  0.63283384,  0.28058976, -0.04521817,  0.10947341,\n",
              "        -0.7119915 ,  0.00209567,  1.1085956 , -0.30568826, -0.20086938,\n",
              "        -0.2713285 , -0.6841976 , -0.22638655,  0.20132807,  0.15217212,\n",
              "        -0.51672333,  0.07839002, -0.6036215 ,  0.1012918 , -1.0807421 ,\n",
              "         0.12023666,  0.35297424,  0.5066354 , -0.19159673, -0.12965803,\n",
              "         0.08644986, -0.2339966 , -0.21568394, -0.56852853,  0.01490576,\n",
              "         0.5294854 ,  0.00904374, -0.13020298, -0.3742888 , -0.14570546,\n",
              "         0.47172078,  0.09017299, -0.38637403, -0.22662523, -0.8550064 ,\n",
              "         0.05492225, -0.49114648, -0.27192008, -0.04331239,  0.42770547,\n",
              "        -0.3042465 , -0.37262368,  0.19366631,  0.00934234,  0.43337178,\n",
              "         0.10942234, -0.51794195, -0.35099235, -0.04753745, -0.41364956,\n",
              "         0.28354633,  0.4210959 , -0.01240203, -0.33775693,  0.09595208,\n",
              "         0.23354585,  0.36265153, -0.2910326 ,  0.1498544 , -0.37786666,\n",
              "         0.40483704,  0.21704805,  0.30052137, -0.4051442 ,  0.59399706,\n",
              "        -0.09854474,  0.23190697,  0.4484457 , -0.11096789,  0.3308268 ,\n",
              "         0.33377996, -0.03139276, -0.10240289, -0.41862088,  0.13965078,\n",
              "        -0.16448332, -0.28344777, -0.29226053,  0.6532106 , -0.04400548,\n",
              "        -0.03281001, -0.2189036 ,  0.52103835,  0.60543966,  0.18234344,\n",
              "         0.40944317,  0.2538728 ,  0.05275419,  0.20804402,  0.872447  ,\n",
              "         0.4362975 ,  0.50357294, -0.6554311 ,  0.18383925,  0.06320012],\n",
              "       dtype=float32),\n",
              " array([-0.1909084 ,  0.6016911 ,  0.251483  , -0.05315264,  0.10869458,\n",
              "        -0.6755375 ,  0.00685911,  1.0568048 , -0.29205287, -0.18622202,\n",
              "        -0.25056478, -0.6529583 , -0.21806255,  0.21053939,  0.14388868,\n",
              "        -0.4930676 ,  0.08083899, -0.56339955,  0.10607778, -1.0279686 ,\n",
              "         0.11831874,  0.3309696 ,  0.4865885 , -0.17229979, -0.11084158,\n",
              "         0.07814702, -0.21868049, -0.2200565 , -0.53210175, -0.0038735 ,\n",
              "         0.51829356,  0.01651783, -0.120777  , -0.34443495, -0.14488441,\n",
              "         0.4529598 ,  0.08532403, -0.3704839 , -0.2122288 , -0.8276833 ,\n",
              "         0.04904006, -0.473226  , -0.24287648, -0.05544679,  0.40284452,\n",
              "        -0.2747728 , -0.35236192,  0.17867753, -0.00819662,  0.40920392,\n",
              "         0.11142143, -0.4968907 , -0.35400358, -0.02975107, -0.39664176,\n",
              "         0.24609312,  0.4110127 , -0.02555989, -0.3305469 ,  0.07210011,\n",
              "         0.21504782,  0.3419262 , -0.2646381 ,  0.13218486, -0.3664111 ,\n",
              "         0.3832955 ,  0.20230347,  0.26908523, -0.39530128,  0.5703809 ,\n",
              "        -0.09189434,  0.2258976 ,  0.4197251 , -0.0912554 ,  0.33320478,\n",
              "         0.30325213, -0.03162458, -0.08437286, -0.407488  ,  0.14696704,\n",
              "        -0.13786273, -0.27301994, -0.285939  ,  0.6216124 , -0.04316765,\n",
              "        -0.03768614, -0.2018787 ,  0.47664723,  0.5577456 ,  0.17795028,\n",
              "         0.38876396,  0.24266656,  0.05946093,  0.19091678,  0.8278552 ,\n",
              "         0.41839635,  0.49011818, -0.62710184,  0.17482445,  0.07273591],\n",
              "       dtype=float32),\n",
              " array([-0.19073567,  0.56074804,  0.24850157, -0.05940399,  0.1090503 ,\n",
              "        -0.6242207 , -0.00149241,  0.9952535 , -0.25121045, -0.17796907,\n",
              "        -0.24887714, -0.616274  , -0.21434712,  0.17594062,  0.13157609,\n",
              "        -0.47074258,  0.06684885, -0.52904534,  0.1018838 , -0.95735514,\n",
              "         0.09899398,  0.3109135 ,  0.44790733, -0.15368593, -0.10090826,\n",
              "         0.08088936, -0.21369663, -0.18507728, -0.50203437,  0.01089442,\n",
              "         0.47170368,  0.00610587, -0.11249703, -0.32584193, -0.13153106,\n",
              "         0.40898734,  0.07712653, -0.34892344, -0.18544416, -0.7637001 ,\n",
              "         0.03454016, -0.42588612, -0.24342796, -0.0423516 ,  0.35778856,\n",
              "        -0.27775127, -0.31243476,  0.17216137, -0.0106172 ,  0.3917479 ,\n",
              "         0.11649553, -0.46441096, -0.32295123, -0.04111999, -0.36065045,\n",
              "         0.23627363,  0.38061425, -0.01556213, -0.2926978 ,  0.08659141,\n",
              "         0.18766887,  0.31649315, -0.236783  ,  0.12684503, -0.34417826,\n",
              "         0.35094932,  0.21187343,  0.25645217, -0.3735563 ,  0.5400835 ,\n",
              "        -0.08053972,  0.21501854,  0.39963844, -0.10149036,  0.29916656,\n",
              "         0.2936942 , -0.03127949, -0.09789127, -0.3844669 ,  0.12949367,\n",
              "        -0.14598617, -0.24515837, -0.25160357,  0.5896806 , -0.04734693,\n",
              "        -0.02693792, -0.1887435 ,  0.44960028,  0.52101207,  0.16524823,\n",
              "         0.36681405,  0.22938737,  0.06611077,  0.16670787,  0.7838252 ,\n",
              "         0.38606632,  0.46467814, -0.5695498 ,  0.17159203,  0.07050881],\n",
              "       dtype=float32),\n",
              " array([-2.2613901e-01,  6.5377498e-01,  2.6918426e-01, -5.9241056e-02,\n",
              "         1.2142327e-01, -7.1412814e-01,  1.0888351e-03,  1.1204822e+00,\n",
              "        -2.8929901e-01, -1.9981673e-01, -2.5846916e-01, -6.7926824e-01,\n",
              "        -2.2427240e-01,  2.0384474e-01,  1.5983725e-01, -5.2054006e-01,\n",
              "         8.0990754e-02, -6.0447550e-01,  9.3914688e-02, -1.0598243e+00,\n",
              "         1.2191976e-01,  3.4725362e-01,  5.1387590e-01, -1.7167145e-01,\n",
              "        -1.2778971e-01,  7.8340687e-02, -2.1980527e-01, -2.2022630e-01,\n",
              "        -5.5890274e-01, -1.3377593e-04,  5.3813928e-01,  3.5510212e-03,\n",
              "        -1.3689597e-01, -3.6575782e-01, -1.3660705e-01,  4.8478085e-01,\n",
              "         1.0976472e-01, -3.9421660e-01, -2.2876260e-01, -8.4521693e-01,\n",
              "         4.7099181e-02, -4.8215514e-01, -2.6432368e-01, -5.0031867e-02,\n",
              "         4.2638955e-01, -3.0055207e-01, -3.6316362e-01,  1.9605497e-01,\n",
              "        -4.0084254e-03,  4.2993838e-01,  1.2527424e-01, -5.1693106e-01,\n",
              "        -3.7246290e-01, -4.6548322e-02, -4.1777751e-01,  2.7068809e-01,\n",
              "         4.3790925e-01, -7.4764448e-03, -3.3356997e-01,  8.7963291e-02,\n",
              "         2.2702302e-01,  3.7156710e-01, -2.7227756e-01,  1.3468869e-01,\n",
              "        -3.7258971e-01,  3.8251507e-01,  2.2105476e-01,  3.0277124e-01,\n",
              "        -4.0873787e-01,  5.8978659e-01, -8.9604661e-02,  2.2791553e-01,\n",
              "         4.4228557e-01, -9.3156978e-02,  3.3585265e-01,  3.2016185e-01,\n",
              "        -4.7717705e-02, -9.1266416e-02, -4.2491490e-01,  1.4671591e-01,\n",
              "        -1.6030405e-01, -2.7139878e-01, -2.7772075e-01,  6.5342462e-01,\n",
              "        -5.5517275e-02, -3.0657845e-02, -2.1705675e-01,  5.1624048e-01,\n",
              "         5.9007698e-01,  1.7096920e-01,  4.0330327e-01,  2.5915366e-01,\n",
              "         6.4855292e-02,  1.9879539e-01,  8.8403869e-01,  4.3813199e-01,\n",
              "         5.1177245e-01, -6.6184372e-01,  1.7708617e-01,  5.7149146e-02],\n",
              "       dtype=float32),\n",
              " array([-0.24190618,  0.7245016 ,  0.3097029 , -0.05140553,  0.11876188,\n",
              "        -0.8130929 ,  0.00441245,  1.2711177 , -0.34677118, -0.22817723,\n",
              "        -0.30000696, -0.78034955, -0.26756644,  0.24060187,  0.1696581 ,\n",
              "        -0.5902929 ,  0.0872039 , -0.682003  ,  0.11175062, -1.225694  ,\n",
              "         0.14589818,  0.4029328 ,  0.58082473, -0.20530958, -0.12573928,\n",
              "         0.08427055, -0.2622736 , -0.24541442, -0.6456208 , -0.00335221,\n",
              "         0.6044721 ,  0.00472014, -0.13255382, -0.42246956, -0.16576648,\n",
              "         0.53586036,  0.11883243, -0.44447485, -0.2409183 , -0.98195344,\n",
              "         0.0402666 , -0.5475584 , -0.31904772, -0.05849594,  0.47146693,\n",
              "        -0.33971772, -0.42381126,  0.23783524,  0.00419322,  0.50371283,\n",
              "         0.13193205, -0.57865536, -0.41735685, -0.0425058 , -0.45513886,\n",
              "         0.305233  ,  0.49723536, -0.02964226, -0.3908969 ,  0.10991044,\n",
              "         0.25383887,  0.41459006, -0.32250038,  0.14516592, -0.43449983,\n",
              "         0.45026946,  0.25664112,  0.3316253 , -0.46471155,  0.68630433,\n",
              "        -0.10803441,  0.27491024,  0.5045315 , -0.13022037,  0.38938123,\n",
              "         0.3756001 , -0.037501  , -0.11365461, -0.48253924,  0.15535921,\n",
              "        -0.17536171, -0.3150997 , -0.3119965 ,  0.7479146 , -0.0600637 ,\n",
              "        -0.03139764, -0.24697307,  0.5730155 ,  0.6715543 ,  0.21707556,\n",
              "         0.4647487 ,  0.2940067 ,  0.07450661,  0.22745854,  1.0042284 ,\n",
              "         0.50365424,  0.5634069 , -0.7432971 ,  0.20908749,  0.08573459],\n",
              "       dtype=float32),\n",
              " array([-0.20372863,  0.63283384,  0.28058976, -0.04521817,  0.10947341,\n",
              "        -0.7119915 ,  0.00209567,  1.1085956 , -0.30568826, -0.20086938,\n",
              "        -0.2713285 , -0.6841976 , -0.22638655,  0.20132807,  0.15217212,\n",
              "        -0.51672333,  0.07839002, -0.6036215 ,  0.1012918 , -1.0807421 ,\n",
              "         0.12023666,  0.35297424,  0.5066354 , -0.19159673, -0.12965803,\n",
              "         0.08644986, -0.2339966 , -0.21568394, -0.56852853,  0.01490576,\n",
              "         0.5294854 ,  0.00904374, -0.13020298, -0.3742888 , -0.14570546,\n",
              "         0.47172078,  0.09017299, -0.38637403, -0.22662523, -0.8550064 ,\n",
              "         0.05492225, -0.49114648, -0.27192008, -0.04331239,  0.42770547,\n",
              "        -0.3042465 , -0.37262368,  0.19366631,  0.00934234,  0.43337178,\n",
              "         0.10942234, -0.51794195, -0.35099235, -0.04753745, -0.41364956,\n",
              "         0.28354633,  0.4210959 , -0.01240203, -0.33775693,  0.09595208,\n",
              "         0.23354585,  0.36265153, -0.2910326 ,  0.1498544 , -0.37786666,\n",
              "         0.40483704,  0.21704805,  0.30052137, -0.4051442 ,  0.59399706,\n",
              "        -0.09854474,  0.23190697,  0.4484457 , -0.11096789,  0.3308268 ,\n",
              "         0.33377996, -0.03139276, -0.10240289, -0.41862088,  0.13965078,\n",
              "        -0.16448332, -0.28344777, -0.29226053,  0.6532106 , -0.04400548,\n",
              "        -0.03281001, -0.2189036 ,  0.52103835,  0.60543966,  0.18234344,\n",
              "         0.40944317,  0.2538728 ,  0.05275419,  0.20804402,  0.872447  ,\n",
              "         0.4362975 ,  0.50357294, -0.6554311 ,  0.18383925,  0.06320012],\n",
              "       dtype=float32),\n",
              " array([-2.2613901e-01,  6.5377498e-01,  2.6918426e-01, -5.9241056e-02,\n",
              "         1.2142327e-01, -7.1412814e-01,  1.0888351e-03,  1.1204822e+00,\n",
              "        -2.8929901e-01, -1.9981673e-01, -2.5846916e-01, -6.7926824e-01,\n",
              "        -2.2427240e-01,  2.0384474e-01,  1.5983725e-01, -5.2054006e-01,\n",
              "         8.0990754e-02, -6.0447550e-01,  9.3914688e-02, -1.0598243e+00,\n",
              "         1.2191976e-01,  3.4725362e-01,  5.1387590e-01, -1.7167145e-01,\n",
              "        -1.2778971e-01,  7.8340687e-02, -2.1980527e-01, -2.2022630e-01,\n",
              "        -5.5890274e-01, -1.3377593e-04,  5.3813928e-01,  3.5510212e-03,\n",
              "        -1.3689597e-01, -3.6575782e-01, -1.3660705e-01,  4.8478085e-01,\n",
              "         1.0976472e-01, -3.9421660e-01, -2.2876260e-01, -8.4521693e-01,\n",
              "         4.7099181e-02, -4.8215514e-01, -2.6432368e-01, -5.0031867e-02,\n",
              "         4.2638955e-01, -3.0055207e-01, -3.6316362e-01,  1.9605497e-01,\n",
              "        -4.0084254e-03,  4.2993838e-01,  1.2527424e-01, -5.1693106e-01,\n",
              "        -3.7246290e-01, -4.6548322e-02, -4.1777751e-01,  2.7068809e-01,\n",
              "         4.3790925e-01, -7.4764448e-03, -3.3356997e-01,  8.7963291e-02,\n",
              "         2.2702302e-01,  3.7156710e-01, -2.7227756e-01,  1.3468869e-01,\n",
              "        -3.7258971e-01,  3.8251507e-01,  2.2105476e-01,  3.0277124e-01,\n",
              "        -4.0873787e-01,  5.8978659e-01, -8.9604661e-02,  2.2791553e-01,\n",
              "         4.4228557e-01, -9.3156978e-02,  3.3585265e-01,  3.2016185e-01,\n",
              "        -4.7717705e-02, -9.1266416e-02, -4.2491490e-01,  1.4671591e-01,\n",
              "        -1.6030405e-01, -2.7139878e-01, -2.7772075e-01,  6.5342462e-01,\n",
              "        -5.5517275e-02, -3.0657845e-02, -2.1705675e-01,  5.1624048e-01,\n",
              "         5.9007698e-01,  1.7096920e-01,  4.0330327e-01,  2.5915366e-01,\n",
              "         6.4855292e-02,  1.9879539e-01,  8.8403869e-01,  4.3813199e-01,\n",
              "         5.1177245e-01, -6.6184372e-01,  1.7708617e-01,  5.7149146e-02],\n",
              "       dtype=float32),\n",
              " array([-1.84273064e-01,  5.39159298e-01,  2.34554172e-01, -5.95392101e-02,\n",
              "         9.02370140e-02, -6.06089830e-01, -1.05753588e-02,  9.44374919e-01,\n",
              "        -2.48509884e-01, -1.68224558e-01, -2.36261308e-01, -5.82434714e-01,\n",
              "        -1.94891199e-01,  1.79965243e-01,  1.42178595e-01, -4.36219275e-01,\n",
              "         7.26895109e-02, -5.21361828e-01,  1.00597858e-01, -9.12257612e-01,\n",
              "         1.11108974e-01,  2.97901630e-01,  4.30581808e-01, -1.66874751e-01,\n",
              "        -1.07212633e-01,  7.53301606e-02, -1.92914113e-01, -1.85990676e-01,\n",
              "        -4.68905061e-01, -1.70659288e-04,  4.65818137e-01,  6.51252177e-03,\n",
              "        -1.20540380e-01, -3.19109529e-01, -1.22771785e-01,  3.91453326e-01,\n",
              "         8.97855088e-02, -3.21695387e-01, -1.91975147e-01, -7.21345305e-01,\n",
              "         4.48139869e-02, -4.07291025e-01, -2.17683837e-01, -5.08602932e-02,\n",
              "         3.53138238e-01, -2.67082304e-01, -3.13181370e-01,  1.68975532e-01,\n",
              "        -1.94691343e-03,  3.71525705e-01,  1.08908698e-01, -4.35577363e-01,\n",
              "        -3.00565988e-01, -2.20875628e-02, -3.55208308e-01,  2.36802727e-01,\n",
              "         3.77760649e-01, -3.52651579e-03, -2.85497487e-01,  7.10413456e-02,\n",
              "         1.90075412e-01,  3.09298366e-01, -2.43396506e-01,  1.29172683e-01,\n",
              "        -3.23644102e-01,  3.38722289e-01,  1.91957116e-01,  2.33621150e-01,\n",
              "        -3.38216633e-01,  5.22555768e-01, -8.26512948e-02,  1.97903633e-01,\n",
              "         3.70054573e-01, -9.51362699e-02,  2.95977235e-01,  2.76528239e-01,\n",
              "        -2.47782636e-02, -8.16964135e-02, -3.60766947e-01,  1.28513500e-01,\n",
              "        -1.33986354e-01, -2.39947036e-01, -2.41797403e-01,  5.59174776e-01,\n",
              "        -4.23206799e-02, -2.17699148e-02, -2.02489644e-01,  4.44152385e-01,\n",
              "         4.93080407e-01,  1.66248977e-01,  3.53689581e-01,  2.12699443e-01,\n",
              "         4.96696420e-02,  1.63450360e-01,  7.34050930e-01,  3.79207075e-01,\n",
              "         4.40799564e-01, -5.51643729e-01,  1.53699920e-01,  6.36322722e-02],\n",
              "       dtype=float32),\n",
              " array([-0.1909084 ,  0.6016911 ,  0.251483  , -0.05315264,  0.10869458,\n",
              "        -0.6755375 ,  0.00685911,  1.0568048 , -0.29205287, -0.18622202,\n",
              "        -0.25056478, -0.6529583 , -0.21806255,  0.21053939,  0.14388868,\n",
              "        -0.4930676 ,  0.08083899, -0.56339955,  0.10607778, -1.0279686 ,\n",
              "         0.11831874,  0.3309696 ,  0.4865885 , -0.17229979, -0.11084158,\n",
              "         0.07814702, -0.21868049, -0.2200565 , -0.53210175, -0.0038735 ,\n",
              "         0.51829356,  0.01651783, -0.120777  , -0.34443495, -0.14488441,\n",
              "         0.4529598 ,  0.08532403, -0.3704839 , -0.2122288 , -0.8276833 ,\n",
              "         0.04904006, -0.473226  , -0.24287648, -0.05544679,  0.40284452,\n",
              "        -0.2747728 , -0.35236192,  0.17867753, -0.00819662,  0.40920392,\n",
              "         0.11142143, -0.4968907 , -0.35400358, -0.02975107, -0.39664176,\n",
              "         0.24609312,  0.4110127 , -0.02555989, -0.3305469 ,  0.07210011,\n",
              "         0.21504782,  0.3419262 , -0.2646381 ,  0.13218486, -0.3664111 ,\n",
              "         0.3832955 ,  0.20230347,  0.26908523, -0.39530128,  0.5703809 ,\n",
              "        -0.09189434,  0.2258976 ,  0.4197251 , -0.0912554 ,  0.33320478,\n",
              "         0.30325213, -0.03162458, -0.08437286, -0.407488  ,  0.14696704,\n",
              "        -0.13786273, -0.27301994, -0.285939  ,  0.6216124 , -0.04316765,\n",
              "        -0.03768614, -0.2018787 ,  0.47664723,  0.5577456 ,  0.17795028,\n",
              "         0.38876396,  0.24266656,  0.05946093,  0.19091678,  0.8278552 ,\n",
              "         0.41839635,  0.49011818, -0.62710184,  0.17482445,  0.07273591],\n",
              "       dtype=float32),\n",
              " array([-1.6407698e-01,  5.2819037e-01,  2.1598212e-01, -6.0677867e-02,\n",
              "         1.1540143e-01, -5.8250755e-01,  6.2388149e-03,  9.1192073e-01,\n",
              "        -2.2436996e-01, -1.6953631e-01, -2.1484834e-01, -5.7380295e-01,\n",
              "        -1.9988641e-01,  1.4646389e-01,  1.2175727e-01, -4.2099467e-01,\n",
              "         8.7771714e-02, -4.9551848e-01,  8.4872186e-02, -8.8498044e-01,\n",
              "         1.0214017e-01,  2.9087362e-01,  4.0713674e-01, -1.6339405e-01,\n",
              "        -1.0032430e-01,  7.4240118e-02, -1.7797546e-01, -1.7939495e-01,\n",
              "        -4.6037292e-01, -3.2810939e-03,  4.2979893e-01, -6.7306780e-03,\n",
              "        -1.0648117e-01, -3.0859032e-01, -1.2606286e-01,  3.6804387e-01,\n",
              "         9.3512870e-02, -3.0694911e-01, -1.6675779e-01, -6.8818992e-01,\n",
              "         4.2979013e-02, -3.9769757e-01, -2.1107170e-01, -2.6553676e-02,\n",
              "         3.5350996e-01, -2.4321516e-01, -3.0370575e-01,  1.5978804e-01,\n",
              "        -6.4345630e-04,  3.6928129e-01,  9.8682635e-02, -4.2461047e-01,\n",
              "        -2.9254502e-01, -4.5405887e-02, -3.4412691e-01,  2.0505379e-01,\n",
              "         3.7081856e-01, -6.8891468e-03, -2.7393955e-01,  7.2279803e-02,\n",
              "         1.6843171e-01,  2.8040081e-01, -2.1671733e-01,  1.3795550e-01,\n",
              "        -3.1710649e-01,  3.4347004e-01,  1.7845374e-01,  2.3407146e-01,\n",
              "        -3.3586192e-01,  4.9184713e-01, -8.8319406e-02,  1.8756843e-01,\n",
              "         3.7976211e-01, -9.5430031e-02,  2.6708075e-01,  2.6090094e-01,\n",
              "        -2.1269687e-02, -7.7943094e-02, -3.4975699e-01,  1.1660598e-01,\n",
              "        -1.4033569e-01, -2.3896231e-01, -2.3043130e-01,  5.2702087e-01,\n",
              "        -2.9648522e-02, -1.5962871e-02, -1.8065654e-01,  4.1976047e-01,\n",
              "         4.8651773e-01,  1.4363337e-01,  3.3774999e-01,  2.2180726e-01,\n",
              "         6.7512758e-02,  1.7588851e-01,  7.2810394e-01,  3.4626931e-01,\n",
              "         4.2306033e-01, -5.0560027e-01,  1.3735203e-01,  6.6311762e-02],\n",
              "       dtype=float32),\n",
              " array([-0.15618466,  0.43823954,  0.18005267, -0.02897763,  0.09511352,\n",
              "        -0.47765622,  0.01634841,  0.7388977 , -0.20716205, -0.12755796,\n",
              "        -0.18060687, -0.47212428, -0.14225034,  0.12800154,  0.12142083,\n",
              "        -0.35264868,  0.05395089, -0.4044435 ,  0.05591187, -0.73130685,\n",
              "         0.08082916,  0.24865565,  0.34218073, -0.13654774, -0.06981012,\n",
              "         0.05717898, -0.15112081, -0.15485024, -0.38439184, -0.0155628 ,\n",
              "         0.3772804 , -0.00682425, -0.08190753, -0.23436868, -0.10204309,\n",
              "         0.32171944,  0.06287128, -0.24326286, -0.1306362 , -0.5931347 ,\n",
              "         0.0229914 , -0.3269468 , -0.18141225, -0.03135791,  0.27750275,\n",
              "        -0.20948036, -0.24663997,  0.13895501, -0.00553619,  0.29361975,\n",
              "         0.08210611, -0.34952784, -0.2460844 , -0.03508092, -0.2730215 ,\n",
              "         0.17478338,  0.29905766, -0.01513375, -0.222295  ,  0.04907291,\n",
              "         0.14090064,  0.23376483, -0.16678666,  0.09932745, -0.27500746,\n",
              "         0.2715752 ,  0.14357571,  0.19982912, -0.29227737,  0.41493604,\n",
              "        -0.07424081,  0.16137004,  0.31210178, -0.06145586,  0.2173837 ,\n",
              "         0.21172301, -0.0334345 , -0.07336012, -0.3015324 ,  0.09114252,\n",
              "        -0.10493843, -0.20169634, -0.1902553 ,  0.44053772, -0.02200471,\n",
              "        -0.01924307, -0.15153657,  0.33816254,  0.39848152,  0.13417687,\n",
              "         0.26884732,  0.18061289,  0.05818602,  0.13340546,  0.60343045,\n",
              "         0.30526087,  0.34970734, -0.421619  ,  0.13310243,  0.03602185],\n",
              "       dtype=float32),\n",
              " array([-0.15136704,  0.46079886,  0.18644223, -0.03357626,  0.09262773,\n",
              "        -0.5084146 , -0.00263346,  0.80156523, -0.20414996, -0.1411776 ,\n",
              "        -0.194004  , -0.4979049 , -0.15893298,  0.14662758,  0.1159407 ,\n",
              "        -0.3831291 ,  0.05295129, -0.43018824,  0.06646979, -0.77510774,\n",
              "         0.08179391,  0.25356573,  0.35355437, -0.12428997, -0.0822835 ,\n",
              "         0.05133209, -0.15691835, -0.16298756, -0.41780868, -0.00702858,\n",
              "         0.391953  , -0.00729901, -0.09335281, -0.26039976, -0.11080977,\n",
              "         0.34172592,  0.07272007, -0.26432538, -0.14962035, -0.6189438 ,\n",
              "         0.03301328, -0.35363895, -0.20253919, -0.02524679,  0.29847908,\n",
              "        -0.23045939, -0.27028137,  0.13843872,  0.00237927,  0.32261285,\n",
              "         0.0949732 , -0.38147232, -0.26002255, -0.03268147, -0.30346715,\n",
              "         0.19921865,  0.3194052 , -0.01674211, -0.25652394,  0.05684909,\n",
              "         0.16128287,  0.2692513 , -0.19216835,  0.09675682, -0.29062265,\n",
              "         0.29869732,  0.15919344,  0.200844  , -0.29048547,  0.42859626,\n",
              "        -0.06501221,  0.16866899,  0.31420198, -0.07638294,  0.24818379,\n",
              "         0.24908489, -0.02800298, -0.0643853 , -0.3107773 ,  0.10321985,\n",
              "        -0.12094148, -0.20589314, -0.20448554,  0.46621916, -0.04014252,\n",
              "        -0.01007929, -0.15781866,  0.36772692,  0.42267022,  0.14128113,\n",
              "         0.2887241 ,  0.19315843,  0.05261006,  0.155061  ,  0.6397259 ,\n",
              "         0.31214222,  0.37166485, -0.46856472,  0.11709395,  0.04249753],\n",
              "       dtype=float32),\n",
              " array([-0.19073567,  0.56074804,  0.24850157, -0.05940399,  0.1090503 ,\n",
              "        -0.6242207 , -0.00149241,  0.9952535 , -0.25121045, -0.17796907,\n",
              "        -0.24887714, -0.616274  , -0.21434712,  0.17594062,  0.13157609,\n",
              "        -0.47074258,  0.06684885, -0.52904534,  0.1018838 , -0.95735514,\n",
              "         0.09899398,  0.3109135 ,  0.44790733, -0.15368593, -0.10090826,\n",
              "         0.08088936, -0.21369663, -0.18507728, -0.50203437,  0.01089442,\n",
              "         0.47170368,  0.00610587, -0.11249703, -0.32584193, -0.13153106,\n",
              "         0.40898734,  0.07712653, -0.34892344, -0.18544416, -0.7637001 ,\n",
              "         0.03454016, -0.42588612, -0.24342796, -0.0423516 ,  0.35778856,\n",
              "        -0.27775127, -0.31243476,  0.17216137, -0.0106172 ,  0.3917479 ,\n",
              "         0.11649553, -0.46441096, -0.32295123, -0.04111999, -0.36065045,\n",
              "         0.23627363,  0.38061425, -0.01556213, -0.2926978 ,  0.08659141,\n",
              "         0.18766887,  0.31649315, -0.236783  ,  0.12684503, -0.34417826,\n",
              "         0.35094932,  0.21187343,  0.25645217, -0.3735563 ,  0.5400835 ,\n",
              "        -0.08053972,  0.21501854,  0.39963844, -0.10149036,  0.29916656,\n",
              "         0.2936942 , -0.03127949, -0.09789127, -0.3844669 ,  0.12949367,\n",
              "        -0.14598617, -0.24515837, -0.25160357,  0.5896806 , -0.04734693,\n",
              "        -0.02693792, -0.1887435 ,  0.44960028,  0.52101207,  0.16524823,\n",
              "         0.36681405,  0.22938737,  0.06611077,  0.16670787,  0.7838252 ,\n",
              "         0.38606632,  0.46467814, -0.5695498 ,  0.17159203,  0.07050881],\n",
              "       dtype=float32),\n",
              " array([-0.13006648,  0.36287886,  0.15182802, -0.04065497,  0.08461086,\n",
              "        -0.40968534, -0.00666541,  0.6421834 , -0.17984079, -0.1134671 ,\n",
              "        -0.1637831 , -0.4037208 , -0.12648682,  0.12353567,  0.09536637,\n",
              "        -0.31280592,  0.05654399, -0.35992178,  0.04786297, -0.6359274 ,\n",
              "         0.06380201,  0.20227551,  0.2861884 , -0.10971711, -0.05441383,\n",
              "         0.05343649, -0.12945591, -0.11789083, -0.3304529 , -0.00134859,\n",
              "         0.30641833,  0.00858974, -0.0866123 , -0.21755165, -0.07932673,\n",
              "         0.2702269 ,  0.05829192, -0.23089607, -0.11550513, -0.49109086,\n",
              "         0.01374843, -0.2873936 , -0.147999  , -0.02411286,  0.24348986,\n",
              "        -0.17717922, -0.22331682,  0.12630066, -0.00456836,  0.25395748,\n",
              "         0.07297709, -0.30284947, -0.21745324, -0.01774949, -0.2448166 ,\n",
              "         0.14591265,  0.2651879 , -0.00290756, -0.18988042,  0.05086797,\n",
              "         0.12907036,  0.19703217, -0.1560481 ,  0.09838882, -0.22754866,\n",
              "         0.23359334,  0.12383129,  0.16447671, -0.24686684,  0.36059016,\n",
              "        -0.05342206,  0.14852172,  0.25334507, -0.067692  ,  0.18654837,\n",
              "         0.18336925, -0.02010153, -0.05066565, -0.24690269,  0.08547756,\n",
              "        -0.10015813, -0.16714965, -0.17489052,  0.38215017, -0.02644803,\n",
              "        -0.00497041, -0.1382374 ,  0.30583724,  0.35174814,  0.11084794,\n",
              "         0.23886861,  0.16249786,  0.0454236 ,  0.12808959,  0.5167107 ,\n",
              "         0.25978032,  0.30348513, -0.38224423,  0.0971892 ,  0.03952471],\n",
              "       dtype=float32)]"
            ]
          },
          "metadata": {},
          "execution_count": 36
        }
      ],
      "source": [
        "vecs_to_viz = [vectors[word] for word in words_to_viz]\n",
        "vecs_to_viz"
      ]
    },
    {
      "cell_type": "code",
      "execution_count": 37,
      "metadata": {
        "id": "zUiuS1O7RCHt",
        "outputId": "fabd3566-ec9d-4c17-c9d8-8b17449cd479",
        "colab": {
          "base_uri": "https://localhost:8080/"
        }
      },
      "outputs": [
        {
          "output_type": "execute_result",
          "data": {
            "text/plain": [
              "array([[ 7.68253464e-01,  2.04206984e-02],\n",
              "       [ 3.66083428e-01, -3.45805957e-03],\n",
              "       [ 1.78834234e-01, -3.64753031e-02],\n",
              "       [-6.35190690e-02,  5.12736509e-02],\n",
              "       [ 3.56975668e-01, -3.29111445e-02],\n",
              "       [ 8.89259745e-01,  1.89362330e-02],\n",
              "       [ 3.66083428e-01, -3.45805957e-03],\n",
              "       [ 3.56975668e-01, -3.29111445e-02],\n",
              "       [-2.09359488e-01, -7.39240691e-03],\n",
              "       [ 1.78834234e-01, -3.64753031e-02],\n",
              "       [-3.35961321e-01,  3.53688941e-02],\n",
              "       [-8.70769283e-01, -1.11786205e-03],\n",
              "       [-6.97055383e-01, -1.09781732e-02],\n",
              "       [-6.35190690e-02,  5.12736509e-02],\n",
              "       [-1.22111626e+00, -1.20956709e-02]])"
            ]
          },
          "metadata": {},
          "execution_count": 37
        }
      ],
      "source": [
        "pca = PCA(n_components=2)\n",
        "vecs_PCA = pca.fit_transform(vecs_to_viz)\n",
        "vecs_PCA"
      ]
    },
    {
      "cell_type": "code",
      "execution_count": 38,
      "metadata": {
        "id": "LQ6m5ipIRCHt",
        "outputId": "81ee272d-2152-4da5-b25a-b76b36ae8fed",
        "colab": {
          "base_uri": "https://localhost:8080/",
          "height": 520
        }
      },
      "outputs": [
        {
          "output_type": "execute_result",
          "data": {
            "text/plain": [
              "         word association       PC1       PC2\n",
              "0       trump        elon  0.768253  0.020421\n",
              "1           u        elon  0.366083 -0.003458\n",
              "2       human        elon  0.178834 -0.036475\n",
              "3     country        elon -0.063519  0.051274\n",
              "4       tesla        elon  0.356976 -0.032911\n",
              "5        elon       trump  0.889260  0.018936\n",
              "6           u        elon  0.366083 -0.003458\n",
              "7       tesla        elon  0.356976 -0.032911\n",
              "8        also       trump -0.209359 -0.007392\n",
              "9       human        elon  0.178834 -0.036475\n",
              "10        new       party -0.335961  0.035369\n",
              "11    america       party -0.870769 -0.001118\n",
              "12   american       party -0.697055 -0.010978\n",
              "13    country        elon -0.063519  0.051274\n",
              "14  political       party -1.221116 -0.012096"
            ],
            "text/html": [
              "\n",
              "  <div id=\"df-8a855d0c-8a36-4e90-886b-62e432064678\" class=\"colab-df-container\">\n",
              "    <div>\n",
              "<style scoped>\n",
              "    .dataframe tbody tr th:only-of-type {\n",
              "        vertical-align: middle;\n",
              "    }\n",
              "\n",
              "    .dataframe tbody tr th {\n",
              "        vertical-align: top;\n",
              "    }\n",
              "\n",
              "    .dataframe thead th {\n",
              "        text-align: right;\n",
              "    }\n",
              "</style>\n",
              "<table border=\"1\" class=\"dataframe\">\n",
              "  <thead>\n",
              "    <tr style=\"text-align: right;\">\n",
              "      <th></th>\n",
              "      <th>word</th>\n",
              "      <th>association</th>\n",
              "      <th>PC1</th>\n",
              "      <th>PC2</th>\n",
              "    </tr>\n",
              "  </thead>\n",
              "  <tbody>\n",
              "    <tr>\n",
              "      <th>0</th>\n",
              "      <td>trump</td>\n",
              "      <td>elon</td>\n",
              "      <td>0.768253</td>\n",
              "      <td>0.020421</td>\n",
              "    </tr>\n",
              "    <tr>\n",
              "      <th>1</th>\n",
              "      <td>u</td>\n",
              "      <td>elon</td>\n",
              "      <td>0.366083</td>\n",
              "      <td>-0.003458</td>\n",
              "    </tr>\n",
              "    <tr>\n",
              "      <th>2</th>\n",
              "      <td>human</td>\n",
              "      <td>elon</td>\n",
              "      <td>0.178834</td>\n",
              "      <td>-0.036475</td>\n",
              "    </tr>\n",
              "    <tr>\n",
              "      <th>3</th>\n",
              "      <td>country</td>\n",
              "      <td>elon</td>\n",
              "      <td>-0.063519</td>\n",
              "      <td>0.051274</td>\n",
              "    </tr>\n",
              "    <tr>\n",
              "      <th>4</th>\n",
              "      <td>tesla</td>\n",
              "      <td>elon</td>\n",
              "      <td>0.356976</td>\n",
              "      <td>-0.032911</td>\n",
              "    </tr>\n",
              "    <tr>\n",
              "      <th>5</th>\n",
              "      <td>elon</td>\n",
              "      <td>trump</td>\n",
              "      <td>0.889260</td>\n",
              "      <td>0.018936</td>\n",
              "    </tr>\n",
              "    <tr>\n",
              "      <th>6</th>\n",
              "      <td>u</td>\n",
              "      <td>elon</td>\n",
              "      <td>0.366083</td>\n",
              "      <td>-0.003458</td>\n",
              "    </tr>\n",
              "    <tr>\n",
              "      <th>7</th>\n",
              "      <td>tesla</td>\n",
              "      <td>elon</td>\n",
              "      <td>0.356976</td>\n",
              "      <td>-0.032911</td>\n",
              "    </tr>\n",
              "    <tr>\n",
              "      <th>8</th>\n",
              "      <td>also</td>\n",
              "      <td>trump</td>\n",
              "      <td>-0.209359</td>\n",
              "      <td>-0.007392</td>\n",
              "    </tr>\n",
              "    <tr>\n",
              "      <th>9</th>\n",
              "      <td>human</td>\n",
              "      <td>elon</td>\n",
              "      <td>0.178834</td>\n",
              "      <td>-0.036475</td>\n",
              "    </tr>\n",
              "    <tr>\n",
              "      <th>10</th>\n",
              "      <td>new</td>\n",
              "      <td>party</td>\n",
              "      <td>-0.335961</td>\n",
              "      <td>0.035369</td>\n",
              "    </tr>\n",
              "    <tr>\n",
              "      <th>11</th>\n",
              "      <td>america</td>\n",
              "      <td>party</td>\n",
              "      <td>-0.870769</td>\n",
              "      <td>-0.001118</td>\n",
              "    </tr>\n",
              "    <tr>\n",
              "      <th>12</th>\n",
              "      <td>american</td>\n",
              "      <td>party</td>\n",
              "      <td>-0.697055</td>\n",
              "      <td>-0.010978</td>\n",
              "    </tr>\n",
              "    <tr>\n",
              "      <th>13</th>\n",
              "      <td>country</td>\n",
              "      <td>elon</td>\n",
              "      <td>-0.063519</td>\n",
              "      <td>0.051274</td>\n",
              "    </tr>\n",
              "    <tr>\n",
              "      <th>14</th>\n",
              "      <td>political</td>\n",
              "      <td>party</td>\n",
              "      <td>-1.221116</td>\n",
              "      <td>-0.012096</td>\n",
              "    </tr>\n",
              "  </tbody>\n",
              "</table>\n",
              "</div>\n",
              "    <div class=\"colab-df-buttons\">\n",
              "\n",
              "  <div class=\"colab-df-container\">\n",
              "    <button class=\"colab-df-convert\" onclick=\"convertToInteractive('df-8a855d0c-8a36-4e90-886b-62e432064678')\"\n",
              "            title=\"Convert this dataframe to an interactive table.\"\n",
              "            style=\"display:none;\">\n",
              "\n",
              "  <svg xmlns=\"http://www.w3.org/2000/svg\" height=\"24px\" viewBox=\"0 -960 960 960\">\n",
              "    <path d=\"M120-120v-720h720v720H120Zm60-500h600v-160H180v160Zm220 220h160v-160H400v160Zm0 220h160v-160H400v160ZM180-400h160v-160H180v160Zm440 0h160v-160H620v160ZM180-180h160v-160H180v160Zm440 0h160v-160H620v160Z\"/>\n",
              "  </svg>\n",
              "    </button>\n",
              "\n",
              "  <style>\n",
              "    .colab-df-container {\n",
              "      display:flex;\n",
              "      gap: 12px;\n",
              "    }\n",
              "\n",
              "    .colab-df-convert {\n",
              "      background-color: #E8F0FE;\n",
              "      border: none;\n",
              "      border-radius: 50%;\n",
              "      cursor: pointer;\n",
              "      display: none;\n",
              "      fill: #1967D2;\n",
              "      height: 32px;\n",
              "      padding: 0 0 0 0;\n",
              "      width: 32px;\n",
              "    }\n",
              "\n",
              "    .colab-df-convert:hover {\n",
              "      background-color: #E2EBFA;\n",
              "      box-shadow: 0px 1px 2px rgba(60, 64, 67, 0.3), 0px 1px 3px 1px rgba(60, 64, 67, 0.15);\n",
              "      fill: #174EA6;\n",
              "    }\n",
              "\n",
              "    .colab-df-buttons div {\n",
              "      margin-bottom: 4px;\n",
              "    }\n",
              "\n",
              "    [theme=dark] .colab-df-convert {\n",
              "      background-color: #3B4455;\n",
              "      fill: #D2E3FC;\n",
              "    }\n",
              "\n",
              "    [theme=dark] .colab-df-convert:hover {\n",
              "      background-color: #434B5C;\n",
              "      box-shadow: 0px 1px 3px 1px rgba(0, 0, 0, 0.15);\n",
              "      filter: drop-shadow(0px 1px 2px rgba(0, 0, 0, 0.3));\n",
              "      fill: #FFFFFF;\n",
              "    }\n",
              "  </style>\n",
              "\n",
              "    <script>\n",
              "      const buttonEl =\n",
              "        document.querySelector('#df-8a855d0c-8a36-4e90-886b-62e432064678 button.colab-df-convert');\n",
              "      buttonEl.style.display =\n",
              "        google.colab.kernel.accessAllowed ? 'block' : 'none';\n",
              "\n",
              "      async function convertToInteractive(key) {\n",
              "        const element = document.querySelector('#df-8a855d0c-8a36-4e90-886b-62e432064678');\n",
              "        const dataTable =\n",
              "          await google.colab.kernel.invokeFunction('convertToInteractive',\n",
              "                                                    [key], {});\n",
              "        if (!dataTable) return;\n",
              "\n",
              "        const docLinkHtml = 'Like what you see? Visit the ' +\n",
              "          '<a target=\"_blank\" href=https://colab.research.google.com/notebooks/data_table.ipynb>data table notebook</a>'\n",
              "          + ' to learn more about interactive tables.';\n",
              "        element.innerHTML = '';\n",
              "        dataTable['output_type'] = 'display_data';\n",
              "        await google.colab.output.renderOutput(dataTable, element);\n",
              "        const docLink = document.createElement('div');\n",
              "        docLink.innerHTML = docLinkHtml;\n",
              "        element.appendChild(docLink);\n",
              "      }\n",
              "    </script>\n",
              "  </div>\n",
              "\n",
              "\n",
              "    <div id=\"df-07461128-b2f7-4a2e-a3c3-01794ae343d6\">\n",
              "      <button class=\"colab-df-quickchart\" onclick=\"quickchart('df-07461128-b2f7-4a2e-a3c3-01794ae343d6')\"\n",
              "                title=\"Suggest charts\"\n",
              "                style=\"display:none;\">\n",
              "\n",
              "<svg xmlns=\"http://www.w3.org/2000/svg\" height=\"24px\"viewBox=\"0 0 24 24\"\n",
              "     width=\"24px\">\n",
              "    <g>\n",
              "        <path d=\"M19 3H5c-1.1 0-2 .9-2 2v14c0 1.1.9 2 2 2h14c1.1 0 2-.9 2-2V5c0-1.1-.9-2-2-2zM9 17H7v-7h2v7zm4 0h-2V7h2v10zm4 0h-2v-4h2v4z\"/>\n",
              "    </g>\n",
              "</svg>\n",
              "      </button>\n",
              "\n",
              "<style>\n",
              "  .colab-df-quickchart {\n",
              "      --bg-color: #E8F0FE;\n",
              "      --fill-color: #1967D2;\n",
              "      --hover-bg-color: #E2EBFA;\n",
              "      --hover-fill-color: #174EA6;\n",
              "      --disabled-fill-color: #AAA;\n",
              "      --disabled-bg-color: #DDD;\n",
              "  }\n",
              "\n",
              "  [theme=dark] .colab-df-quickchart {\n",
              "      --bg-color: #3B4455;\n",
              "      --fill-color: #D2E3FC;\n",
              "      --hover-bg-color: #434B5C;\n",
              "      --hover-fill-color: #FFFFFF;\n",
              "      --disabled-bg-color: #3B4455;\n",
              "      --disabled-fill-color: #666;\n",
              "  }\n",
              "\n",
              "  .colab-df-quickchart {\n",
              "    background-color: var(--bg-color);\n",
              "    border: none;\n",
              "    border-radius: 50%;\n",
              "    cursor: pointer;\n",
              "    display: none;\n",
              "    fill: var(--fill-color);\n",
              "    height: 32px;\n",
              "    padding: 0;\n",
              "    width: 32px;\n",
              "  }\n",
              "\n",
              "  .colab-df-quickchart:hover {\n",
              "    background-color: var(--hover-bg-color);\n",
              "    box-shadow: 0 1px 2px rgba(60, 64, 67, 0.3), 0 1px 3px 1px rgba(60, 64, 67, 0.15);\n",
              "    fill: var(--button-hover-fill-color);\n",
              "  }\n",
              "\n",
              "  .colab-df-quickchart-complete:disabled,\n",
              "  .colab-df-quickchart-complete:disabled:hover {\n",
              "    background-color: var(--disabled-bg-color);\n",
              "    fill: var(--disabled-fill-color);\n",
              "    box-shadow: none;\n",
              "  }\n",
              "\n",
              "  .colab-df-spinner {\n",
              "    border: 2px solid var(--fill-color);\n",
              "    border-color: transparent;\n",
              "    border-bottom-color: var(--fill-color);\n",
              "    animation:\n",
              "      spin 1s steps(1) infinite;\n",
              "  }\n",
              "\n",
              "  @keyframes spin {\n",
              "    0% {\n",
              "      border-color: transparent;\n",
              "      border-bottom-color: var(--fill-color);\n",
              "      border-left-color: var(--fill-color);\n",
              "    }\n",
              "    20% {\n",
              "      border-color: transparent;\n",
              "      border-left-color: var(--fill-color);\n",
              "      border-top-color: var(--fill-color);\n",
              "    }\n",
              "    30% {\n",
              "      border-color: transparent;\n",
              "      border-left-color: var(--fill-color);\n",
              "      border-top-color: var(--fill-color);\n",
              "      border-right-color: var(--fill-color);\n",
              "    }\n",
              "    40% {\n",
              "      border-color: transparent;\n",
              "      border-right-color: var(--fill-color);\n",
              "      border-top-color: var(--fill-color);\n",
              "    }\n",
              "    60% {\n",
              "      border-color: transparent;\n",
              "      border-right-color: var(--fill-color);\n",
              "    }\n",
              "    80% {\n",
              "      border-color: transparent;\n",
              "      border-right-color: var(--fill-color);\n",
              "      border-bottom-color: var(--fill-color);\n",
              "    }\n",
              "    90% {\n",
              "      border-color: transparent;\n",
              "      border-bottom-color: var(--fill-color);\n",
              "    }\n",
              "  }\n",
              "</style>\n",
              "\n",
              "      <script>\n",
              "        async function quickchart(key) {\n",
              "          const quickchartButtonEl =\n",
              "            document.querySelector('#' + key + ' button');\n",
              "          quickchartButtonEl.disabled = true;  // To prevent multiple clicks.\n",
              "          quickchartButtonEl.classList.add('colab-df-spinner');\n",
              "          try {\n",
              "            const charts = await google.colab.kernel.invokeFunction(\n",
              "                'suggestCharts', [key], {});\n",
              "          } catch (error) {\n",
              "            console.error('Error during call to suggestCharts:', error);\n",
              "          }\n",
              "          quickchartButtonEl.classList.remove('colab-df-spinner');\n",
              "          quickchartButtonEl.classList.add('colab-df-quickchart-complete');\n",
              "        }\n",
              "        (() => {\n",
              "          let quickchartButtonEl =\n",
              "            document.querySelector('#df-07461128-b2f7-4a2e-a3c3-01794ae343d6 button');\n",
              "          quickchartButtonEl.style.display =\n",
              "            google.colab.kernel.accessAllowed ? 'block' : 'none';\n",
              "        })();\n",
              "      </script>\n",
              "    </div>\n",
              "\n",
              "  <div id=\"id_00b2e4c4-2333-4435-8c57-e57608697730\">\n",
              "    <style>\n",
              "      .colab-df-generate {\n",
              "        background-color: #E8F0FE;\n",
              "        border: none;\n",
              "        border-radius: 50%;\n",
              "        cursor: pointer;\n",
              "        display: none;\n",
              "        fill: #1967D2;\n",
              "        height: 32px;\n",
              "        padding: 0 0 0 0;\n",
              "        width: 32px;\n",
              "      }\n",
              "\n",
              "      .colab-df-generate:hover {\n",
              "        background-color: #E2EBFA;\n",
              "        box-shadow: 0px 1px 2px rgba(60, 64, 67, 0.3), 0px 1px 3px 1px rgba(60, 64, 67, 0.15);\n",
              "        fill: #174EA6;\n",
              "      }\n",
              "\n",
              "      [theme=dark] .colab-df-generate {\n",
              "        background-color: #3B4455;\n",
              "        fill: #D2E3FC;\n",
              "      }\n",
              "\n",
              "      [theme=dark] .colab-df-generate:hover {\n",
              "        background-color: #434B5C;\n",
              "        box-shadow: 0px 1px 3px 1px rgba(0, 0, 0, 0.15);\n",
              "        filter: drop-shadow(0px 1px 2px rgba(0, 0, 0, 0.3));\n",
              "        fill: #FFFFFF;\n",
              "      }\n",
              "    </style>\n",
              "    <button class=\"colab-df-generate\" onclick=\"generateWithVariable('vecs_PCA_df')\"\n",
              "            title=\"Generate code using this dataframe.\"\n",
              "            style=\"display:none;\">\n",
              "\n",
              "  <svg xmlns=\"http://www.w3.org/2000/svg\" height=\"24px\"viewBox=\"0 0 24 24\"\n",
              "       width=\"24px\">\n",
              "    <path d=\"M7,19H8.4L18.45,9,17,7.55,7,17.6ZM5,21V16.75L18.45,3.32a2,2,0,0,1,2.83,0l1.4,1.43a1.91,1.91,0,0,1,.58,1.4,1.91,1.91,0,0,1-.58,1.4L9.25,21ZM18.45,9,17,7.55Zm-12,3A5.31,5.31,0,0,0,4.9,8.1,5.31,5.31,0,0,0,1,6.5,5.31,5.31,0,0,0,4.9,4.9,5.31,5.31,0,0,0,6.5,1,5.31,5.31,0,0,0,8.1,4.9,5.31,5.31,0,0,0,12,6.5,5.46,5.46,0,0,0,6.5,12Z\"/>\n",
              "  </svg>\n",
              "    </button>\n",
              "    <script>\n",
              "      (() => {\n",
              "      const buttonEl =\n",
              "        document.querySelector('#id_00b2e4c4-2333-4435-8c57-e57608697730 button.colab-df-generate');\n",
              "      buttonEl.style.display =\n",
              "        google.colab.kernel.accessAllowed ? 'block' : 'none';\n",
              "\n",
              "      buttonEl.onclick = () => {\n",
              "        google.colab.notebook.generateWithVariable('vecs_PCA_df');\n",
              "      }\n",
              "      })();\n",
              "    </script>\n",
              "  </div>\n",
              "\n",
              "    </div>\n",
              "  </div>\n"
            ],
            "application/vnd.google.colaboratory.intrinsic+json": {
              "type": "dataframe",
              "variable_name": "vecs_PCA_df",
              "summary": "{\n  \"name\": \"vecs_PCA_df\",\n  \"rows\": 15,\n  \"fields\": [\n    {\n      \"column\": \"word\",\n      \"properties\": {\n        \"dtype\": \"string\",\n        \"num_unique_values\": 11,\n        \"samples\": [\n          \"elon\",\n          \"trump\",\n          \"american\"\n        ],\n        \"semantic_type\": \"\",\n        \"description\": \"\"\n      }\n    },\n    {\n      \"column\": \"association\",\n      \"properties\": {\n        \"dtype\": \"category\",\n        \"num_unique_values\": 3,\n        \"samples\": [\n          \"elon\",\n          \"trump\",\n          \"party\"\n        ],\n        \"semantic_type\": \"\",\n        \"description\": \"\"\n      }\n    },\n    {\n      \"column\": \"PC1\",\n      \"properties\": {\n        \"dtype\": \"number\",\n        \"std\": 0.5896656476390988,\n        \"min\": -1.2211162565226623,\n        \"max\": 0.8892597448160511,\n        \"num_unique_values\": 12,\n        \"samples\": [\n          -0.6970553831040683,\n          -0.8707692829042715,\n          0.7682534637662378\n        ],\n        \"semantic_type\": \"\",\n        \"description\": \"\"\n      }\n    },\n    {\n      \"column\": \"PC2\",\n      \"properties\": {\n        \"dtype\": \"number\",\n        \"std\": 0.02983088115289929,\n        \"min\": -0.03647530305068187,\n        \"max\": 0.05127365089840352,\n        \"num_unique_values\": 15,\n        \"samples\": [\n          -0.03647530305068187,\n          -0.0011178620477154478,\n          0.02042069840798155\n        ],\n        \"semantic_type\": \"\",\n        \"description\": \"\"\n      }\n    }\n  ]\n}"
            }
          },
          "metadata": {},
          "execution_count": 38
        }
      ],
      "source": [
        "vecs_PCA_df = pd.DataFrame(columns=['word', 'association', 'PC1', 'PC2'])\n",
        "\n",
        "for idx in range(len(words_to_viz)):\n",
        "  word = words_to_viz[idx]\n",
        "  if word in word_set1:\n",
        "    association = 'elon'\n",
        "  elif word in word_set2:\n",
        "    association = 'trump'\n",
        "  elif word in word_set3:\n",
        "    association = 'party'\n",
        "  else:\n",
        "    association = 'unknown' # Or some other default\n",
        "\n",
        "  PC1 = vecs_PCA[idx, 0]\n",
        "  PC2 = vecs_PCA[idx, 1]\n",
        "  new_row = [word, association, PC1, PC2]\n",
        "\n",
        "  vecs_PCA_df.loc[len(vecs_PCA_df)] = new_row\n",
        "\n",
        "vecs_PCA_df"
      ]
    },
    {
      "cell_type": "code",
      "metadata": {
        "id": "c45957b7"
      },
      "source": [
        "# Train the word2vec model, filtering out empty lists\n",
        "model = gensim.models.Word2Vec([tokens for tokens in corpus['tokenized_text'] if tokens],\n",
        "                               vector_size=100,  # Dimension of the word vectors\n",
        "                               min_count=1,    # Ignores all words with total frequency lower min_count\n",
        "                               sg=0,           # Training algorithm: 0 for CBOW; 1 for Skip-gram\n",
        "                               window=5,       # Maximum distance between the current & predicted word within a sentence\n",
        "                               workers=4,      # Number of workers to use for training\n",
        "                               epochs=10       # Number of iterations over the corpus\n",
        "                               )\n",
        "\n",
        "model.save('word2vec.model')"
      ],
      "execution_count": 39,
      "outputs": []
    },
    {
      "cell_type": "markdown",
      "metadata": {
        "id": "54bab1c1"
      },
      "source": [
        "# **2. PCA of the words from the top 3 words (from the Term-Frequency Language Model).**\n",
        "\n",
        "This section applies Principal Component Analysis (PCA) to the word vectors of the words most similar to the top 3 most frequent words."
      ]
    },
    {
      "cell_type": "code",
      "execution_count": 40,
      "metadata": {
        "id": "XKFoxkD1RCHu",
        "outputId": "5a6e2f4f-93fc-4492-f561-f62a336bdfc3",
        "colab": {
          "base_uri": "https://localhost:8080/",
          "height": 449
        }
      },
      "outputs": [
        {
          "output_type": "display_data",
          "data": {
            "text/plain": [
              "<Figure size 640x480 with 1 Axes>"
            ],
            "image/png": "[encoded data removed]"
          },
          "metadata": {}
        }
      ],
      "source": [
        "vecs_viz = sns.scatterplot(data=vecs_PCA_df, x='PC1', y='PC2', hue='association')\n",
        "for idx in range(len(words_to_viz)):\n",
        "  vecs_viz.text(vecs_PCA_df.PC1[idx] - 0.01, vecs_PCA_df.PC2[idx], vecs_PCA_df.word[idx], horizontalalignment='right',\n",
        "                size='x-small', color='black', weight='light')\n",
        "vecs_viz\n",
        "\n",
        "plt.show()"
      ]
    }
  ],
  "metadata": {
    "kernelspec": {
      "display_name": "base",
      "language": "python",
      "name": "python3"
    },
    "language_info": {
      "codemirror_mode": {
        "name": "ipython",
        "version": 3
      },
      "file_extension": ".py",
      "mimetype": "text/x-python",
      "name": "python",
      "nbconvert_exporter": "python",
      "pygments_lexer": "ipython3",
      "version": "3.11.8"
    },
    "colab": {
      "provenance": [],
      "include_colab_link": true
    }
  },
  "nbformat": 4,
  "nbformat_minor": 0
}